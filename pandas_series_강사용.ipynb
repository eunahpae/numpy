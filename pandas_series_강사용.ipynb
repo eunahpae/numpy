{
 "cells": [
  {
   "cell_type": "markdown",
   "id": "a8e5ad7e",
   "metadata": {},
   "source": [
    "# Pandas\n",
    "파이썬에서 사용하는 데이터 분석 라이브러리"
   ]
  },
  {
   "cell_type": "markdown",
   "id": "7c86e7e0",
   "metadata": {},
   "source": [
    "# 왜 팬더스를 쓰나요?\n",
    "\n",
    "엑셀과 상당히 유사합니다, 데이터의 수정/가공 및 분석이 용이합니다.    \n",
    "데이터 가공을 위한 수많은 함수를 지원합니다.  \n",
    "Numpy 기반으로 데이터 처리가 상당히 빠릅니다.  "
   ]
  },
  {
   "cell_type": "code",
   "execution_count": 2,
   "id": "8caeb570",
   "metadata": {},
   "outputs": [],
   "source": [
    "import pandas as pd"
   ]
  },
  {
   "cell_type": "markdown",
   "id": "fb17c79f",
   "metadata": {},
   "source": [
    "# 1. Series\n",
    "1차원 데이터 (정수, 실수, 문자열 등)\n",
    "* 시리즈는 인덱스와 값으로 구성됩니다."
   ]
  },
  {
   "cell_type": "markdown",
   "id": "81d92896",
   "metadata": {},
   "source": [
    "## Series 객체 생성\n",
    "예) 1월부터 4월까지 평균 온도 데이터 (-20, -10, 10, 20)"
   ]
  },
  {
   "cell_type": "code",
   "execution_count": 3,
   "id": "1d071f17",
   "metadata": {},
   "outputs": [
    {
     "data": {
      "text/plain": [
       "0   -20\n",
       "1   -10\n",
       "2    10\n",
       "3    20\n",
       "dtype: int64"
      ]
     },
     "execution_count": 3,
     "metadata": {},
     "output_type": "execute_result"
    }
   ],
   "source": [
    "temp = pd.Series([-20, -10, 10, 20])\n",
    "temp"
   ]
  },
  {
   "cell_type": "code",
   "execution_count": 4,
   "id": "66f1c6c4",
   "metadata": {},
   "outputs": [
    {
     "data": {
      "text/plain": [
       "-20"
      ]
     },
     "execution_count": 4,
     "metadata": {},
     "output_type": "execute_result"
    }
   ],
   "source": [
    "temp[0] # 1월 온도"
   ]
  },
  {
   "cell_type": "code",
   "execution_count": 5,
   "id": "bae44bc5",
   "metadata": {},
   "outputs": [
    {
     "data": {
      "text/plain": [
       "10"
      ]
     },
     "execution_count": 5,
     "metadata": {},
     "output_type": "execute_result"
    }
   ],
   "source": [
    "temp[2] # 3월 온도"
   ]
  },
  {
   "cell_type": "markdown",
   "id": "7e6cfae9",
   "metadata": {},
   "source": [
    "# Series 객체 생성 (Index 지정)"
   ]
  },
  {
   "cell_type": "code",
   "execution_count": 83,
   "id": "7943d7a6",
   "metadata": {},
   "outputs": [
    {
     "data": {
      "text/plain": [
       "Jan   -20\n",
       "Feb   -10\n",
       "Mar    10\n",
       "Apr    20\n",
       "dtype: int64"
      ]
     },
     "execution_count": 83,
     "metadata": {},
     "output_type": "execute_result"
    }
   ],
   "source": [
    "temp = pd.Series([-20, -10, 10, 20], index=['Jan', 'Feb', 'Mar', 'Apr'])\n",
    "temp"
   ]
  },
  {
   "cell_type": "code",
   "execution_count": 84,
   "id": "1cf7a6b9",
   "metadata": {
    "scrolled": true
   },
   "outputs": [
    {
     "data": {
      "text/plain": [
       "-20"
      ]
     },
     "execution_count": 84,
     "metadata": {},
     "output_type": "execute_result"
    }
   ],
   "source": [
    "temp['Jan'] # Index Jan (1월) 에 해당하는 데이터 출력"
   ]
  },
  {
   "cell_type": "code",
   "execution_count": 85,
   "id": "e387be9a",
   "metadata": {},
   "outputs": [
    {
     "data": {
      "text/plain": [
       "20"
      ]
     },
     "execution_count": 85,
     "metadata": {},
     "output_type": "execute_result"
    }
   ],
   "source": [
    "temp['Apr'] # Index Apr (4월) 에 해당하는 데이터 출력"
   ]
  },
  {
   "cell_type": "code",
   "execution_count": 88,
   "id": "887c4816",
   "metadata": {},
   "outputs": [],
   "source": [
    "# 존재하지 않는 Index 접근 시도 시 에러\n",
    "#temp['Jun'] "
   ]
  },
  {
   "cell_type": "code",
   "execution_count": 89,
   "id": "575096d5",
   "metadata": {},
   "outputs": [
    {
     "name": "stdout",
     "output_type": "stream",
     "text": [
      "a     사과\n",
      "b    바나나\n",
      "c     당근\n",
      "dtype: object\n",
      "사과\n"
     ]
    }
   ],
   "source": [
    "import pandas as pd \n",
    "\n",
    "array = pd.Series(['사과', '바나나', '당근'], index=['a', 'b', 'c'])  # 리스트로 생성\n",
    " \n",
    "print(array)\n",
    "print(array['a'])"
   ]
  },
  {
   "cell_type": "code",
   "execution_count": 90,
   "id": "f7a85702",
   "metadata": {},
   "outputs": [
    {
     "name": "stdout",
     "output_type": "stream",
     "text": [
      "사과\n"
     ]
    }
   ],
   "source": [
    "import pandas as pd\n",
    "\n",
    "data = {                #딕셔너리로 생성\n",
    "    'a': '사과',\n",
    "    'b': '바나나',\n",
    "    'c': '당근'\n",
    "}\n",
    "\n",
    "# Dict 자료형을 Series로 바꾸기\n",
    "seri = pd.Series(data)\n",
    "print(seri['a'])"
   ]
  },
  {
   "cell_type": "code",
   "execution_count": 2,
   "id": "ddb02610",
   "metadata": {},
   "outputs": [],
   "source": [
    "import pandas as pd\n"
   ]
  },
  {
   "cell_type": "code",
   "execution_count": 61,
   "id": "f3c08613",
   "metadata": {
    "scrolled": true
   },
   "outputs": [
    {
     "name": "stdout",
     "output_type": "stream",
     "text": [
      "0    80\n",
      "1    90\n",
      "2    70\n",
      "3    90\n",
      "4    95\n",
      "dtype: int64\n"
     ]
    }
   ],
   "source": [
    "# Series\n",
    "# Series는 index,value의 두개값을 가진다  --> dataFrame 은 index,value,column세가지\n",
    "s = pd.Series([80,90,70,90,95])\n",
    "\n",
    "print(s)\n"
   ]
  },
  {
   "cell_type": "code",
   "execution_count": 58,
   "id": "2dd4e9c4",
   "metadata": {
    "scrolled": true
   },
   "outputs": [
    {
     "data": {
      "text/plain": [
       "[70, 80, 90, 90, 95]"
      ]
     },
     "execution_count": 58,
     "metadata": {},
     "output_type": "execute_result"
    }
   ],
   "source": [
    "# 시리즈정렬\n",
    "s = pd.Series([80,90,70,90,95])\n",
    "s = sorted(s)\n",
    "s"
   ]
  },
  {
   "cell_type": "code",
   "execution_count": 62,
   "id": "e16cacb4",
   "metadata": {},
   "outputs": [
    {
     "name": "stdout",
     "output_type": "stream",
     "text": [
      "RangeIndex(start=0, stop=5, step=1)\n",
      "[80 90 70 90 95]\n"
     ]
    }
   ],
   "source": [
    "from pandas import Series\n",
    "# index, values확인\n",
    "print(s.index)\n",
    "print(s.values)\n"
   ]
  },
  {
   "cell_type": "code",
   "execution_count": 60,
   "id": "f3ce5716",
   "metadata": {
    "scrolled": true
   },
   "outputs": [
    {
     "name": "stdout",
     "output_type": "stream",
     "text": [
      "국어    80\n",
      "영어    90\n",
      "수학    70\n",
      "과학    90\n",
      "사회    95\n",
      "Name: 성적, dtype: int64\n"
     ]
    }
   ],
   "source": [
    "#index부여(국어,영어,수학,과학,사회)\n",
    "s = pd.Series([80,90,70,90,95],index=['국어','영어','수학','과학','사회'],name='성적')\n",
    "print(s)\n"
   ]
  },
  {
   "cell_type": "code",
   "execution_count": 32,
   "id": "e65e2268",
   "metadata": {},
   "outputs": [
    {
     "name": "stdout",
     "output_type": "stream",
     "text": [
      "[70, 80, 90, 90, 95]\n",
      "['과학', '국어', '사회', '수학', '영어']\n",
      "[70, 80, 90, 90, 95]\n"
     ]
    },
    {
     "data": {
      "text/plain": [
       "과학    90\n",
       "국어    80\n",
       "사회    95\n",
       "수학    70\n",
       "영어    90\n",
       "Name: 성적, dtype: int64"
      ]
     },
     "execution_count": 32,
     "metadata": {},
     "output_type": "execute_result"
    }
   ],
   "source": [
    "#성적순으로 정렬\n",
    "print(sorted(s))\n",
    "print(sorted(s.index))\n",
    "print(sorted(s.values))\n",
    "s.reindex(sorted(s.index))\n"
   ]
  },
  {
   "cell_type": "code",
   "execution_count": 54,
   "id": "cb730fa8",
   "metadata": {
    "scrolled": false
   },
   "outputs": [
    {
     "data": {
      "text/plain": [
       "국어    80\n",
       "영어    90\n",
       "수학    70\n",
       "과학    90\n",
       "사회    95\n",
       "dtype: int64"
      ]
     },
     "execution_count": 54,
     "metadata": {},
     "output_type": "execute_result"
    }
   ],
   "source": [
    "#딕셔너리 ->시리즈\n",
    "s1 = pd.Series({'국어':80,'영어':90,'수학':70,'과학':90,'사회':95})\n",
    "s1\n"
   ]
  },
  {
   "cell_type": "code",
   "execution_count": 57,
   "id": "96ae7dd5",
   "metadata": {
    "scrolled": true
   },
   "outputs": [
    {
     "name": "stdout",
     "output_type": "stream",
     "text": [
      "85.0\n"
     ]
    }
   ],
   "source": [
    "#평균\n",
    "print(s1.mean(axis=0)) #axis는 디폴트값이 0임"
   ]
  },
  {
   "cell_type": "code",
   "execution_count": 63,
   "id": "7c558515",
   "metadata": {
    "scrolled": false
   },
   "outputs": [
    {
     "name": "stdout",
     "output_type": "stream",
     "text": [
      "   First  Second\n",
      "0      1       2\n",
      "1      3       4\n",
      "2      5       6\n",
      "3      7       8\n",
      "4      9      10\n"
     ]
    }
   ],
   "source": [
    "#중첩리스트 - > 데이터프레임\n",
    "my_ary = [[1,2],[3,4],[5,6],[7,8],[9,10]]\n",
    "data = pd.DataFrame(my_ary,columns = ['First','Second'])\n",
    "print(data)\n",
    "\n"
   ]
  },
  {
   "cell_type": "code",
   "execution_count": 64,
   "id": "85c62a0a",
   "metadata": {},
   "outputs": [
    {
     "name": "stdout",
     "output_type": "stream",
     "text": [
      "1     4\n",
      "2     6\n",
      "4    10\n",
      "Name: Second, dtype: int64\n",
      "1    3\n",
      "2    5\n",
      "4    9\n",
      "Name: First, dtype: int64\n"
     ]
    },
    {
     "data": {
      "text/plain": [
       "pandas.core.series.Series"
      ]
     },
     "execution_count": 64,
     "metadata": {},
     "output_type": "execute_result"
    }
   ],
   "source": [
    "#컬럼(시리즈)마스킹\n",
    "bools = [False, True, True, False, True]\n",
    "print(data.Second[bools])\n",
    "\n",
    "dt1= data.First[bools]\n",
    "print(dt1)\n",
    "type(dt1)"
   ]
  },
  {
   "cell_type": "code",
   "execution_count": 65,
   "id": "1fbc7070",
   "metadata": {},
   "outputs": [
    {
     "data": {
      "text/html": [
       "<div>\n",
       "<style scoped>\n",
       "    .dataframe tbody tr th:only-of-type {\n",
       "        vertical-align: middle;\n",
       "    }\n",
       "\n",
       "    .dataframe tbody tr th {\n",
       "        vertical-align: top;\n",
       "    }\n",
       "\n",
       "    .dataframe thead th {\n",
       "        text-align: right;\n",
       "    }\n",
       "</style>\n",
       "<table border=\"1\" class=\"dataframe\">\n",
       "  <thead>\n",
       "    <tr style=\"text-align: right;\">\n",
       "      <th></th>\n",
       "      <th>First</th>\n",
       "      <th>Second</th>\n",
       "      <th>합계</th>\n",
       "    </tr>\n",
       "  </thead>\n",
       "  <tbody>\n",
       "    <tr>\n",
       "      <th>0</th>\n",
       "      <td>1</td>\n",
       "      <td>2</td>\n",
       "      <td>3</td>\n",
       "    </tr>\n",
       "    <tr>\n",
       "      <th>1</th>\n",
       "      <td>3</td>\n",
       "      <td>4</td>\n",
       "      <td>7</td>\n",
       "    </tr>\n",
       "    <tr>\n",
       "      <th>2</th>\n",
       "      <td>5</td>\n",
       "      <td>6</td>\n",
       "      <td>11</td>\n",
       "    </tr>\n",
       "    <tr>\n",
       "      <th>3</th>\n",
       "      <td>7</td>\n",
       "      <td>8</td>\n",
       "      <td>15</td>\n",
       "    </tr>\n",
       "    <tr>\n",
       "      <th>4</th>\n",
       "      <td>9</td>\n",
       "      <td>10</td>\n",
       "      <td>19</td>\n",
       "    </tr>\n",
       "  </tbody>\n",
       "</table>\n",
       "</div>"
      ],
      "text/plain": [
       "   First  Second  합계\n",
       "0      1       2   3\n",
       "1      3       4   7\n",
       "2      5       6  11\n",
       "3      7       8  15\n",
       "4      9      10  19"
      ]
     },
     "execution_count": 65,
     "metadata": {},
     "output_type": "execute_result"
    }
   ],
   "source": [
    "#컬럼을 추가하여 합계구하기\n",
    "dt2=data['First']\n",
    "dt3 = data['Second']\n",
    "data['합계'] = dt2 + dt3\n",
    "data"
   ]
  },
  {
   "cell_type": "code",
   "execution_count": 68,
   "id": "f8b3efe0",
   "metadata": {},
   "outputs": [],
   "source": [
    "# 딕셔너리 -> 시리즈\n",
    "age = {'민준':23,'현우':43,'서연':12,'동현':45}\n",
    "x = pd.Series(age)\n"
   ]
  },
  {
   "cell_type": "code",
   "execution_count": 79,
   "id": "5b82d9ea",
   "metadata": {
    "scrolled": true
   },
   "outputs": [
    {
     "name": "stdout",
     "output_type": "stream",
     "text": [
      "서연    12\n",
      "동현    45\n",
      "dtype: int64\n",
      "45\n",
      "[12 45]\n",
      "<class 'pandas.core.series.Series'> <class 'numpy.int64'>\n"
     ]
    }
   ],
   "source": [
    "# 시리즈의 슬라이싱/인덱싱\n",
    "age = {'민준':23,'현우':43,'서연':12,'동현':45}\n",
    "x = pd.Series(age)\n",
    "a = x[2:]\n",
    "b = a[1]\n",
    "print(a)\n",
    "print(b)\n",
    "print(a.values)\n",
    "print(type(a),type(b))"
   ]
  },
  {
   "cell_type": "code",
   "execution_count": 80,
   "id": "0015d8d3",
   "metadata": {
    "scrolled": true
   },
   "outputs": [
    {
     "data": {
      "text/plain": [
       "name        홍길동\n",
       "age        20.0\n",
       "job          의적\n",
       "special     분신술\n",
       "dtype: object"
      ]
     },
     "execution_count": 80,
     "metadata": {},
     "output_type": "execute_result"
    }
   ],
   "source": [
    "# 딕셔너리 -> 시리즈\n",
    "s2 = {'name':'홍길동','age':20.,'job':'의적','special':'분신술'}\n",
    "s2= pd.Series(s2)\n",
    "s2"
   ]
  },
  {
   "cell_type": "code",
   "execution_count": 81,
   "id": "69987aad",
   "metadata": {
    "scrolled": false
   },
   "outputs": [
    {
     "name": "stdout",
     "output_type": "stream",
     "text": [
      "홍길동\n",
      "의적\n",
      "special    분신술\n",
      "dtype: object\n",
      "special    분신술\n",
      "dtype: object\n"
     ]
    }
   ],
   "source": [
    "# 시리즈 데이터접근\n",
    "print(s2[0])\n",
    "print(s2['job'])\n",
    "print(s2[3:])\n",
    "print(s2[s2=='분신술'])"
   ]
  },
  {
   "cell_type": "code",
   "execution_count": 2,
   "id": "502a1938",
   "metadata": {
    "scrolled": true
   },
   "outputs": [
    {
     "data": {
      "text/plain": [
       "0    조조\n",
       "1    96\n",
       "2    72\n",
       "3    91\n",
       "4    94\n",
       "5    96\n",
       "dtype: object"
      ]
     },
     "execution_count": 2,
     "metadata": {},
     "output_type": "execute_result"
    }
   ],
   "source": [
    "import pandas as pd\n",
    "\n",
    "\n",
    "pd.Series(['조조', 96, 72, 91, 94, 96])"
   ]
  },
  {
   "cell_type": "code",
   "execution_count": 3,
   "id": "c59f6730",
   "metadata": {},
   "outputs": [],
   "source": [
    "s2 = pd.Series(['조조', 96, 72, 91, 94, 96], index=['이름', '통솔', '무력', '지력', '정치', '매력'])"
   ]
  },
  {
   "cell_type": "code",
   "execution_count": 4,
   "id": "fe8aca01",
   "metadata": {},
   "outputs": [
    {
     "data": {
      "text/plain": [
       "Index(['이름', '통솔', '무력', '지력', '정치', '매력'], dtype='object')"
      ]
     },
     "execution_count": 4,
     "metadata": {},
     "output_type": "execute_result"
    }
   ],
   "source": [
    "s2.index"
   ]
  },
  {
   "cell_type": "code",
   "execution_count": 5,
   "id": "17a65f09",
   "metadata": {},
   "outputs": [
    {
     "data": {
      "text/plain": [
       "array(['조조', 96, 72, 91, 94, 96], dtype=object)"
      ]
     },
     "execution_count": 5,
     "metadata": {},
     "output_type": "execute_result"
    }
   ],
   "source": [
    "s2.values"
   ]
  },
  {
   "cell_type": "code",
   "execution_count": 6,
   "id": "98bffc7c",
   "metadata": {},
   "outputs": [
    {
     "data": {
      "text/plain": [
       "이름    조운\n",
       "통솔    91\n",
       "무력    97\n",
       "지력    76\n",
       "정치    65\n",
       "매력    81\n",
       "dtype: object"
      ]
     },
     "execution_count": 6,
     "metadata": {},
     "output_type": "execute_result"
    }
   ],
   "source": [
    "infos = { \"이름\":\"조운\", \"통솔\":91, \"무력\":97, \"지력\":76, \"정치\":65, \"매력\":81 }\n",
    "pd.Series(infos)"
   ]
  },
  {
   "cell_type": "code",
   "execution_count": 7,
   "id": "cf3fa363",
   "metadata": {},
   "outputs": [
    {
     "data": {
      "text/plain": [
       "이름    조조\n",
       "무력    72\n",
       "지력    91\n",
       "정치    94\n",
       "매력    96\n",
       "통솔    96\n",
       "dtype: object"
      ]
     },
     "execution_count": 7,
     "metadata": {},
     "output_type": "execute_result"
    }
   ],
   "source": [
    "s2 = pd.Series(['조조', 96, 72, 91, 94, 96], index=['이름', '통솔', '무력', '지력', '정치', '매력'])\n",
    "s2.reindex(['이름', '무력', '지력', '정치', '매력', '통솔'])"
   ]
  },
  {
   "cell_type": "code",
   "execution_count": 8,
   "id": "32c4bfe8",
   "metadata": {},
   "outputs": [
    {
     "data": {
      "text/plain": [
       "'조조'"
      ]
     },
     "execution_count": 8,
     "metadata": {},
     "output_type": "execute_result"
    }
   ],
   "source": [
    "c = pd.Series(['조조', 96, 72, 91, 94, 96], index=['이름', '통솔', '무력', '지력', '정치', '매력'])\n",
    "c[0]"
   ]
  },
  {
   "cell_type": "code",
   "execution_count": 9,
   "id": "3473e908",
   "metadata": {},
   "outputs": [
    {
     "data": {
      "text/plain": [
       "'조조'"
      ]
     },
     "execution_count": 9,
     "metadata": {},
     "output_type": "execute_result"
    }
   ],
   "source": [
    "c['이름']"
   ]
  },
  {
   "cell_type": "code",
   "execution_count": 10,
   "id": "ede6f969",
   "metadata": {},
   "outputs": [
    {
     "data": {
      "text/plain": [
       "72"
      ]
     },
     "execution_count": 10,
     "metadata": {},
     "output_type": "execute_result"
    }
   ],
   "source": [
    " c.loc['무력']"
   ]
  },
  {
   "cell_type": "code",
   "execution_count": 11,
   "id": "f02e7acd",
   "metadata": {
    "scrolled": true
   },
   "outputs": [
    {
     "data": {
      "text/plain": [
       "이름    조조\n",
       "무력    72\n",
       "dtype: object"
      ]
     },
     "execution_count": 11,
     "metadata": {},
     "output_type": "execute_result"
    }
   ],
   "source": [
    "c[['이름', '무력']]"
   ]
  },
  {
   "cell_type": "code",
   "execution_count": 12,
   "id": "0c4203a1",
   "metadata": {},
   "outputs": [
    {
     "data": {
      "text/plain": [
       "Series([], dtype: object)"
      ]
     },
     "execution_count": 12,
     "metadata": {},
     "output_type": "execute_result"
    }
   ],
   "source": [
    "c[c.isnull()]"
   ]
  },
  {
   "cell_type": "code",
   "execution_count": 13,
   "id": "af2c4198",
   "metadata": {},
   "outputs": [
    {
     "data": {
      "text/plain": [
       "이름    조조\n",
       "통솔    96\n",
       "무력    72\n",
       "지력    91\n",
       "정치    94\n",
       "매력    96\n",
       "dtype: object"
      ]
     },
     "execution_count": 13,
     "metadata": {},
     "output_type": "execute_result"
    }
   ],
   "source": [
    "c[c.notnull()]"
   ]
  },
  {
   "cell_type": "code",
   "execution_count": 14,
   "id": "75fe1be3",
   "metadata": {},
   "outputs": [
    {
     "data": {
      "text/plain": [
       "이름     조조\n",
       "통솔     96\n",
       "무력    100\n",
       "지력     91\n",
       "정치     94\n",
       "매력     96\n",
       "dtype: object"
      ]
     },
     "execution_count": 14,
     "metadata": {},
     "output_type": "execute_result"
    }
   ],
   "source": [
    "c['무력'] = 100\n",
    "c"
   ]
  },
  {
   "cell_type": "code",
   "execution_count": 15,
   "id": "751dfe7d",
   "metadata": {},
   "outputs": [
    {
     "data": {
      "text/plain": [
       "이름     조조\n",
       "통솔     96\n",
       "무력    120\n",
       "지력    100\n",
       "정치     94\n",
       "매력     96\n",
       "dtype: object"
      ]
     },
     "execution_count": 15,
     "metadata": {},
     "output_type": "execute_result"
    }
   ],
   "source": [
    "c[['무력', '지력']] = (120, 100)\n",
    "c"
   ]
  },
  {
   "cell_type": "code",
   "execution_count": 16,
   "id": "8653c85f",
   "metadata": {
    "scrolled": true
   },
   "outputs": [
    {
     "data": {
      "text/plain": [
       "통솔     96\n",
       "무력    120\n",
       "지력    100\n",
       "정치     94\n",
       "매력     96\n",
       "dtype: object"
      ]
     },
     "execution_count": 16,
     "metadata": {},
     "output_type": "execute_result"
    }
   ],
   "source": [
    "# 삭제\n",
    "del c['이름']\n",
    "c"
   ]
  },
  {
   "cell_type": "code",
   "execution_count": 17,
   "id": "b5f4f8a1",
   "metadata": {},
   "outputs": [
    {
     "data": {
      "text/plain": [
       "통솔     96\n",
       "지력    100\n",
       "정치     94\n",
       "매력     96\n",
       "dtype: object"
      ]
     },
     "execution_count": 17,
     "metadata": {},
     "output_type": "execute_result"
    }
   ],
   "source": [
    "c.drop('무력')"
   ]
  },
  {
   "cell_type": "code",
   "execution_count": 18,
   "id": "1d82ff20",
   "metadata": {},
   "outputs": [
    {
     "data": {
      "text/plain": [
       "통솔     96\n",
       "무력    120\n",
       "지력    100\n",
       "정치     94\n",
       "매력     96\n",
       "dtype: object"
      ]
     },
     "execution_count": 18,
     "metadata": {},
     "output_type": "execute_result"
    }
   ],
   "source": [
    "c"
   ]
  },
  {
   "cell_type": "code",
   "execution_count": 19,
   "id": "8d6fa0b9",
   "metadata": {},
   "outputs": [
    {
     "data": {
      "text/plain": [
       "통솔     96\n",
       "지력    100\n",
       "정치     94\n",
       "매력     96\n",
       "dtype: object"
      ]
     },
     "execution_count": 19,
     "metadata": {},
     "output_type": "execute_result"
    }
   ],
   "source": [
    "#수정된 값 적용\n",
    "c.drop('무력', inplace=True)\n",
    "c"
   ]
  },
  {
   "cell_type": "code",
   "execution_count": 109,
   "id": "19331724",
   "metadata": {},
   "outputs": [
    {
     "data": {
      "text/plain": [
       "통솔     96\n",
       "지력    100\n",
       "정치     94\n",
       "매력     96\n",
       "Name: person, dtype: object"
      ]
     },
     "execution_count": 109,
     "metadata": {},
     "output_type": "execute_result"
    }
   ],
   "source": [
    "c.name = 'person'\n",
    "c"
   ]
  },
  {
   "cell_type": "code",
   "execution_count": 110,
   "id": "a1495f81",
   "metadata": {},
   "outputs": [
    {
     "data": {
      "text/plain": [
       "'person'"
      ]
     },
     "execution_count": 110,
     "metadata": {},
     "output_type": "execute_result"
    }
   ],
   "source": [
    "c.name"
   ]
  },
  {
   "cell_type": "code",
   "execution_count": 111,
   "id": "e1273e62",
   "metadata": {},
   "outputs": [
    {
     "data": {
      "text/plain": [
       "Index(['통솔', '지력', '정치', '매력'], dtype='object')"
      ]
     },
     "execution_count": 111,
     "metadata": {},
     "output_type": "execute_result"
    }
   ],
   "source": [
    "c.index"
   ]
  },
  {
   "cell_type": "code",
   "execution_count": 112,
   "id": "d94b72c8",
   "metadata": {},
   "outputs": [
    {
     "data": {
      "text/plain": [
       "array([96, 100, 94, 96], dtype=object)"
      ]
     },
     "execution_count": 112,
     "metadata": {},
     "output_type": "execute_result"
    }
   ],
   "source": [
    "c.values"
   ]
  },
  {
   "cell_type": "code",
   "execution_count": null,
   "id": "14798079",
   "metadata": {},
   "outputs": [],
   "source": []
  }
 ],
 "metadata": {
  "kernelspec": {
   "display_name": "Python 3 (ipykernel)",
   "language": "python",
   "name": "python3"
  },
  "language_info": {
   "codemirror_mode": {
    "name": "ipython",
    "version": 3
   },
   "file_extension": ".py",
   "mimetype": "text/x-python",
   "name": "python",
   "nbconvert_exporter": "python",
   "pygments_lexer": "ipython3",
   "version": "3.10.6"
  }
 },
 "nbformat": 4,
 "nbformat_minor": 5
}
