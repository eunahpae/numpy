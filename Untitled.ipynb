{
 "cells": [
  {
   "cell_type": "code",
   "execution_count": 1,
   "id": "d2ff0395-95ab-4c55-834a-5c5576af5bc1",
   "metadata": {},
   "outputs": [
    {
     "name": "stdout",
     "output_type": "stream",
     "text": [
      "3\n",
      "int32\n",
      "3\n"
     ]
    }
   ],
   "source": [
    "import numpy as np\n",
    "array = np.array([1, 2, 3])\n",
    "print(array.size) \n",
    "print(array.dtype) \n",
    "print(array[2]) "
   ]
  },
  {
   "cell_type": "code",
   "execution_count": 2,
   "id": "a141773c-68b7-40b8-aa49-39f458269b50",
   "metadata": {},
   "outputs": [
    {
     "name": "stdout",
     "output_type": "stream",
     "text": [
      "[0 1 2 3]\n",
      "[[0. 0. 0. 0.]\n",
      " [0. 0. 0. 0.]\n",
      " [0. 0. 0. 0.]\n",
      " [0. 0. 0. 0.]]\n",
      "[['1' '1' '1']\n",
      " ['1' '1' '1']\n",
      " ['1' '1' '1']]\n",
      "[[6 7 0]\n",
      " [6 8 5]\n",
      " [3 9 7]]\n",
      "[[ 0.39985701  0.5493657   0.07479179]\n",
      " [-0.39522999 -0.60156672  0.72647998]\n",
      " [-0.73816438  0.9525166   1.30680104]]\n"
     ]
    }
   ],
   "source": [
    "array1 = np.arange(4)\n",
    "array2 = np.zeros((4, 4), dtype=float) # 0으로 초기화\n",
    "array3 = np.ones((3, 3), dtype=str) # 1로 초기화\n",
    "# 0부터 9까지 랜덤하게 초기화 된 배열 만들기\n",
    "array4 = np.random.randint(0, 10, (3, 3))\n",
    "# 평균이 0이고 표준편차가 1인 표준 정규를 띄는 배열\n",
    "array5 = np.random.normal(0, 1, (3, 3))\n",
    "print(array1)\n",
    "print(array2)\n",
    "print(array3)\n",
    "print(array4)\n",
    "print(array5)"
   ]
  },
  {
   "cell_type": "code",
   "execution_count": 3,
   "id": "28d01304-6de6-4972-8442-3119fc3e2cc8",
   "metadata": {},
   "outputs": [
    {
     "name": "stdout",
     "output_type": "stream",
     "text": [
      "(6,)\n",
      "[1 2 3 4 5 6]\n"
     ]
    }
   ],
   "source": [
    "array1 = np.array([1, 2, 3])\n",
    "array2 = np.array([4, 5, 6])\n",
    "array3 = np.concatenate([array1, array2])\n",
    "print(array3.shape)\n",
    "print(array3)"
   ]
  },
  {
   "cell_type": "code",
   "execution_count": 4,
   "id": "5332b69a-a851-4537-be21-0a79d49cfa71",
   "metadata": {},
   "outputs": [
    {
     "name": "stdout",
     "output_type": "stream",
     "text": [
      "[[0 2]\n",
      " [2 4]]\n"
     ]
    }
   ],
   "source": [
    "array1 = np.arange(4).reshape(2, 2)\n",
    "array2 = np.arange(2)\n",
    "array3 = array1 + array2\n",
    "print(array3)"
   ]
  },
  {
   "cell_type": "code",
   "execution_count": null,
   "id": "4c390c61-c5f1-4cab-87cb-c53fd154fc53",
   "metadata": {},
   "outputs": [],
   "source": []
  }
 ],
 "metadata": {
  "kernelspec": {
   "display_name": "Python 3 (ipykernel)",
   "language": "python",
   "name": "python3"
  },
  "language_info": {
   "codemirror_mode": {
    "name": "ipython",
    "version": 3
   },
   "file_extension": ".py",
   "mimetype": "text/x-python",
   "name": "python",
   "nbconvert_exporter": "python",
   "pygments_lexer": "ipython3",
   "version": "3.10.9"
  }
 },
 "nbformat": 4,
 "nbformat_minor": 5
}
