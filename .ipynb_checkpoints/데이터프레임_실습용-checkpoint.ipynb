{
 "cells": [
  {
   "cell_type": "markdown",
   "id": "15a2c624",
   "metadata": {},
   "source": [
    "# 2. DataFrame\n",
    "2차원 데이터 (Series 들의 모음)"
   ]
  },
  {
   "cell_type": "markdown",
   "id": "2cec0ed2",
   "metadata": {},
   "source": [
    "### 딕셔너리로 만들기"
   ]
  },
  {
   "cell_type": "code",
   "execution_count": 1,
   "id": "d09a8c77",
   "metadata": {
    "scrolled": true
   },
   "outputs": [],
   "source": [
    "import pandas as pd\n",
    "\n"
   ]
  },
  {
   "cell_type": "markdown",
   "id": "e60a53d9",
   "metadata": {},
   "source": [
    "### 리스트로 만들기"
   ]
  },
  {
   "cell_type": "code",
   "execution_count": null,
   "id": "28da2b70",
   "metadata": {
    "scrolled": true
   },
   "outputs": [],
   "source": [
    "\n"
   ]
  },
  {
   "cell_type": "markdown",
   "id": "3fd165d6",
   "metadata": {},
   "source": [
    "#### 행,열 이름 변경 : 기본"
   ]
  },
  {
   "cell_type": "code",
   "execution_count": null,
   "id": "112fbc2a",
   "metadata": {
    "scrolled": false
   },
   "outputs": [],
   "source": []
  },
  {
   "cell_type": "markdown",
   "id": "e76358e1",
   "metadata": {},
   "source": [
    "#### 행,열 이름 변경 : rename()함수"
   ]
  },
  {
   "cell_type": "code",
   "execution_count": null,
   "id": "480976d9",
   "metadata": {},
   "outputs": [],
   "source": []
  },
  {
   "cell_type": "code",
   "execution_count": null,
   "id": "1aa718e0",
   "metadata": {
    "scrolled": true
   },
   "outputs": [],
   "source": []
  },
  {
   "cell_type": "markdown",
   "id": "848cb2d2",
   "metadata": {},
   "source": [
    "* 행이름 변경시 columns=가 아닌 index=로 지정하면 된다. "
   ]
  },
  {
   "cell_type": "code",
   "execution_count": null,
   "id": "a6a43237",
   "metadata": {
    "scrolled": false
   },
   "outputs": [],
   "source": []
  },
  {
   "cell_type": "markdown",
   "id": "f3461075",
   "metadata": {},
   "source": [
    "#### 행삭제: Drop 함수"
   ]
  },
  {
   "cell_type": "code",
   "execution_count": null,
   "id": "f47a9dc9",
   "metadata": {
    "scrolled": true
   },
   "outputs": [],
   "source": []
  },
  {
   "cell_type": "markdown",
   "id": "adb513a5",
   "metadata": {},
   "source": [
    "* drop('행 또는 열이름', axis = 0 or 1, inplace =True)와 같이 사용한다.</br>\n",
    "* 행을 삭제하려면 axis=0(디폴트값), 열을 삭제하려면 axis=1을 꼭 지정해 주어야한다."
   ]
  },
  {
   "cell_type": "code",
   "execution_count": null,
   "id": "19b09d1d",
   "metadata": {
    "scrolled": false
   },
   "outputs": [],
   "source": []
  },
  {
   "cell_type": "markdown",
   "id": "d64f43c7",
   "metadata": {},
   "source": [
    "* loc와 iloc는 가장많이 사용되는 함수이다.(데이터 전처리에 인덱싱이 항상 사용되기 때문)</br>\n",
    "* loc는 이름으로(사람기준), iloc는 숫자로 인덱싱(컴퓨터기준)"
   ]
  },
  {
   "cell_type": "code",
   "execution_count": null,
   "id": "3f1ed23e",
   "metadata": {
    "scrolled": true
   },
   "outputs": [],
   "source": []
  },
  {
   "cell_type": "code",
   "execution_count": null,
   "id": "87761aa8",
   "metadata": {
    "scrolled": true
   },
   "outputs": [],
   "source": []
  },
  {
   "cell_type": "code",
   "execution_count": null,
   "id": "d52049b6",
   "metadata": {
    "scrolled": false
   },
   "outputs": [],
   "source": []
  },
  {
   "cell_type": "code",
   "execution_count": null,
   "id": "2db8b057",
   "metadata": {
    "scrolled": true
   },
   "outputs": [],
   "source": []
  },
  {
   "cell_type": "code",
   "execution_count": 2,
   "id": "87cb5ba0",
   "metadata": {
    "scrolled": true
   },
   "outputs": [],
   "source": [
    "# 두개이상은 대괄호두개\n"
   ]
  },
  {
   "cell_type": "code",
   "execution_count": 3,
   "id": "069f6436",
   "metadata": {
    "scrolled": false
   },
   "outputs": [],
   "source": [
    "# 행위치로 범위:를 이용해 인덱싱 할때는, 끝값이 포함되지 않는다!.\n"
   ]
  },
  {
   "cell_type": "markdown",
   "id": "b12fb096",
   "metadata": {},
   "source": [
    "* 열(컬럼)선택은 따로 함수가 필요없음.\n",
    "* df.열이름 또는 df[‘열이름’]으로 선택이 가능"
   ]
  },
  {
   "cell_type": "code",
   "execution_count": null,
   "id": "3749a7dc",
   "metadata": {},
   "outputs": [],
   "source": []
  },
  {
   "cell_type": "code",
   "execution_count": 4,
   "id": "ff329f2c",
   "metadata": {},
   "outputs": [],
   "source": [
    "# 수학 컬럼만 선택\n"
   ]
  },
  {
   "cell_type": "code",
   "execution_count": 5,
   "id": "3ddd7bea",
   "metadata": {
    "scrolled": true
   },
   "outputs": [],
   "source": [
    "# 영어만 선택\n"
   ]
  },
  {
   "cell_type": "code",
   "execution_count": 6,
   "id": "59e52152",
   "metadata": {},
   "outputs": [],
   "source": [
    "# 두개이상의 열 선택하기\n"
   ]
  },
  {
   "cell_type": "markdown",
   "id": "6169736b",
   "metadata": {},
   "source": [
    "### 범위 슬라이싱"
   ]
  },
  {
   "cell_type": "code",
   "execution_count": null,
   "id": "adade56d",
   "metadata": {},
   "outputs": [],
   "source": []
  },
  {
   "cell_type": "code",
   "execution_count": 7,
   "id": "90ea2267",
   "metadata": {},
   "outputs": [],
   "source": [
    "# 모든 행을 2행간격으로 선택\n"
   ]
  },
  {
   "cell_type": "code",
   "execution_count": 8,
   "id": "df22d6e8",
   "metadata": {
    "scrolled": false
   },
   "outputs": [],
   "source": [
    "# 0행부터 2행까지 2행간격으로 선택\n"
   ]
  },
  {
   "cell_type": "code",
   "execution_count": 9,
   "id": "150c5ef6",
   "metadata": {
    "scrolled": false
   },
   "outputs": [],
   "source": [
    "# 모든 행을 -1간격으로\n"
   ]
  },
  {
   "cell_type": "markdown",
   "id": "686eeecc",
   "metadata": {},
   "source": [
    "### 원소선택\n",
    "* set_index()함수는 특정열을 인덱스로 부여해주는 함수이다.</br>\n",
    "* 날짜정보의 열이나, key값을 가진 열을 인덱스로 부여하고 싶은 경우에 사용."
   ]
  },
  {
   "cell_type": "code",
   "execution_count": null,
   "id": "2a79f18e",
   "metadata": {},
   "outputs": [],
   "source": []
  },
  {
   "cell_type": "code",
   "execution_count": 10,
   "id": "170e8e93",
   "metadata": {},
   "outputs": [],
   "source": [
    "# '서준'의 '음악'점수 \n"
   ]
  },
  {
   "cell_type": "code",
   "execution_count": 11,
   "id": "81b35f41",
   "metadata": {
    "scrolled": true
   },
   "outputs": [],
   "source": [
    "# iloc로 인덱싱\n"
   ]
  },
  {
   "cell_type": "code",
   "execution_count": 12,
   "id": "012d58dc",
   "metadata": {
    "scrolled": true
   },
   "outputs": [],
   "source": [
    "# 서준의 음악, 체육점수를 찾는 4가지방법\n"
   ]
  },
  {
   "cell_type": "code",
   "execution_count": 13,
   "id": "f0907e9b",
   "metadata": {
    "scrolled": false
   },
   "outputs": [],
   "source": [
    "# 두개이상의 행과 열선택\n"
   ]
  },
  {
   "cell_type": "code",
   "execution_count": 14,
   "id": "2c9fdc0c",
   "metadata": {
    "scrolled": false
   },
   "outputs": [],
   "source": [
    "# 열추가는 df['새로운 열이름'] = 값\n",
    "# 열이름이 아니라 기존 열이름이라면 덮어씌워진다.\n"
   ]
  },
  {
   "cell_type": "code",
   "execution_count": null,
   "id": "2c8d3b80",
   "metadata": {
    "scrolled": false
   },
   "outputs": [],
   "source": []
  },
  {
   "cell_type": "markdown",
   "id": "8a4bf9c1",
   "metadata": {},
   "source": [
    "* 원소 값 변경하기"
   ]
  },
  {
   "cell_type": "code",
   "execution_count": null,
   "id": "c379dd75",
   "metadata": {},
   "outputs": [],
   "source": []
  },
  {
   "cell_type": "code",
   "execution_count": 15,
   "id": "65055e57",
   "metadata": {},
   "outputs": [],
   "source": [
    "# 서준의 체육값 변경 4가지 방법\n",
    "\n"
   ]
  },
  {
   "cell_type": "markdown",
   "id": "63bc7470",
   "metadata": {},
   "source": [
    "* 행과 열 바꾸기 : 전치행렬 transpose()함수, .T"
   ]
  },
  {
   "cell_type": "code",
   "execution_count": 16,
   "id": "8cfb55b8",
   "metadata": {
    "scrolled": false
   },
   "outputs": [],
   "source": [
    "# df.transpose(), df.T 둘다 가능\n"
   ]
  },
  {
   "cell_type": "code",
   "execution_count": 17,
   "id": "82a3380a",
   "metadata": {
    "scrolled": true
   },
   "outputs": [],
   "source": [
    "#전치를 두번 하면 원상태로 돌아옴\n"
   ]
  },
  {
   "cell_type": "markdown",
   "id": "10654a25",
   "metadata": {},
   "source": [
    "## Data 준비\n",
    "사전 (dict) 자료구조를 통해 생성\n",
    "\n",
    "예) 슬램덩크 주요 인물 8명에 대한 데이터"
   ]
  },
  {
   "cell_type": "code",
   "execution_count": 1,
   "id": "b70afda2",
   "metadata": {},
   "outputs": [
    {
     "data": {
      "text/plain": [
       "{'이름': ['채치수', '정대만', '송태섭', '서태웅', '강백호', '변덕규', '황태산', '윤대협'],\n",
       " '학교': ['북산고', '북산고', '북산고', '북산고', '북산고', '능남고', '능남고', '능남고'],\n",
       " '키': [197, 184, 168, 187, 188, 202, 188, 190],\n",
       " '국어': [90, 40, 80, 40, 15, 80, 55, 100],\n",
       " '영어': [85, 35, 75, 60, 20, 100, 65, 85],\n",
       " '수학': [100, 50, 70, 70, 10, 95, 45, 90],\n",
       " '과학': [95, 55, 80, 75, 35, 85, 40, 95],\n",
       " '사회': [85, 25, 75, 80, 10, 80, 35, 95],\n",
       " 'SW특기': ['Python', 'Java', 'Javascript', '', '', 'C', 'PYTHON', 'C#']}"
      ]
     },
     "execution_count": 1,
     "metadata": {},
     "output_type": "execute_result"
    }
   ],
   "source": [
    "data = {\n",
    "    '이름' : ['채치수', '정대만', '송태섭', '서태웅', '강백호', '변덕규', '황태산', '윤대협'],\n",
    "    '학교' : ['북산고', '북산고', '북산고', '북산고', '북산고', '능남고', '능남고', '능남고'],\n",
    "    '키' : [197, 184, 168, 187, 188, 202, 188, 190],\n",
    "    '국어' : [90, 40, 80, 40, 15, 80, 55, 100],\n",
    "    '영어' : [85, 35, 75, 60, 20, 100, 65, 85],\n",
    "    '수학' : [100, 50, 70, 70, 10, 95, 45, 90],\n",
    "    '과학' : [95, 55, 80, 75, 35, 85, 40, 95],\n",
    "    '사회' : [85, 25, 75, 80, 10, 80, 35, 95],\n",
    "    'SW특기' : ['Python', 'Java', 'Javascript', '', '', 'C', 'PYTHON', 'C#']\n",
    "}\n",
    "data"
   ]
  },
  {
   "cell_type": "code",
   "execution_count": 18,
   "id": "1f6e0793",
   "metadata": {},
   "outputs": [],
   "source": [
    "# 이름"
   ]
  },
  {
   "cell_type": "code",
   "execution_count": 19,
   "id": "ea718ab5",
   "metadata": {},
   "outputs": [],
   "source": [
    "#키출력"
   ]
  },
  {
   "cell_type": "markdown",
   "id": "23bb5e1b",
   "metadata": {},
   "source": [
    "## DataFrame 객체 생성"
   ]
  },
  {
   "cell_type": "code",
   "execution_count": 5,
   "id": "e440d536",
   "metadata": {},
   "outputs": [],
   "source": [
    "import pandas as pd\n",
    "df = pd.DataFrame(data)"
   ]
  },
  {
   "cell_type": "code",
   "execution_count": null,
   "id": "89f94035",
   "metadata": {
    "scrolled": true
   },
   "outputs": [],
   "source": [
    "# 데이터확인"
   ]
  },
  {
   "cell_type": "markdown",
   "id": "44459dab",
   "metadata": {},
   "source": [
    "## 데이터 접근"
   ]
  },
  {
   "cell_type": "code",
   "execution_count": 21,
   "id": "a63f2b55",
   "metadata": {
    "scrolled": true
   },
   "outputs": [],
   "source": [
    "# 이름"
   ]
  },
  {
   "cell_type": "code",
   "execution_count": 20,
   "id": "3823a882",
   "metadata": {},
   "outputs": [],
   "source": [
    "# 키"
   ]
  },
  {
   "cell_type": "code",
   "execution_count": 22,
   "id": "e026f8d4",
   "metadata": {},
   "outputs": [],
   "source": [
    "# 이름, 키"
   ]
  },
  {
   "cell_type": "markdown",
   "id": "42ed15f1",
   "metadata": {},
   "source": [
    "## DataFrame 객체 생성 (Index 지정)"
   ]
  },
  {
   "cell_type": "code",
   "execution_count": 23,
   "id": "fdfe0028",
   "metadata": {
    "scrolled": true
   },
   "outputs": [],
   "source": [
    "# index=['1번', '2번', '3번', '4번', '5번', '6번', '7번', '8번'])"
   ]
  },
  {
   "cell_type": "markdown",
   "id": "366f0ca6",
   "metadata": {},
   "source": [
    "## DataFrame 객체 생성 (Column 지정)\n",
    "data 중에서 원하는 column 만 선택하거나, 순서 변경 가능"
   ]
  },
  {
   "cell_type": "code",
   "execution_count": 24,
   "id": "5db09c60",
   "metadata": {},
   "outputs": [],
   "source": [
    "# columns=['이름', '학교', '키']\n"
   ]
  },
  {
   "cell_type": "code",
   "execution_count": 25,
   "id": "4adc3ecf",
   "metadata": {},
   "outputs": [],
   "source": [
    "#columns=['이름', '키', '학교']\n"
   ]
  }
 ],
 "metadata": {
  "kernelspec": {
   "display_name": "Python 3 (ipykernel)",
   "language": "python",
   "name": "python3"
  },
  "language_info": {
   "codemirror_mode": {
    "name": "ipython",
    "version": 3
   },
   "file_extension": ".py",
   "mimetype": "text/x-python",
   "name": "python",
   "nbconvert_exporter": "python",
   "pygments_lexer": "ipython3",
   "version": "3.10.6"
  }
 },
 "nbformat": 4,
 "nbformat_minor": 5
}
