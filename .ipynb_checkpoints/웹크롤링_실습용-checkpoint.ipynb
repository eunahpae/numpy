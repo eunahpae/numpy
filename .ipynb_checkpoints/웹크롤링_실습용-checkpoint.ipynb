{
 "cells": [
  {
   "cell_type": "markdown",
   "metadata": {
    "jp-MarkdownHeadingCollapsed": true
   },
   "source": [
    "### 1. Crawling pattern\n",
    "### 2. 웹 기본 기술 익히기\n",
    "### 3. HTML이해를 바탕으로 크롤링\n",
    "### 4. HTML/CSS이해를 바탕으로 크롤링\n",
    "### 5. 실전 크롤링과 크롤링 팁\n",
    "### 6. CSS selector 사용해서 크롤링\n",
    "### 7. 실전 크롤링\n",
    "#### -네이버 쇼핑\n",
    "#### -네이버 주식\n",
    "#### -urllib 라이브러리 사용\n",
    "#### -크롤링해서 엑셀 파일로 저장"
   ]
  },
  {
   "cell_type": "markdown",
   "metadata": {},
   "source": [
    "# <b>크롤링 핵심 코드 패턴<b>"
   ]
  },
  {
   "cell_type": "markdown",
   "metadata": {
    "colab_type": "text",
    "id": "oB7RjFELjJkA"
   },
   "source": [
    "## 웹 크롤링\n"
   ]
  },
  {
   "cell_type": "markdown",
   "metadata": {
    "colab_type": "text",
    "id": "UgjcJAgXjUBv"
   },
   "source": [
    "**Web Crawler**\n",
    "- 웹 크롤러란 자동화된 방법으로 웹(Web)에서 다양한 정보를 수집하는 소프트웨어입니다.\n",
    "- 원하는 서비스에서 원하는 정보를 편하게 얻어올 수 있습니다.\n",
    "- 언어를 막론하고 구현할 수 있지만, 주로 Python을 이용합니다."
   ]
  },
  {
   "cell_type": "markdown",
   "metadata": {},
   "source": [
    "============================================================================\n",
    "## **requests 설치하기**\n",
    "\n",
    "### !pip install requests\n",
    "<b>--------------------------------------------------------------------<b/>\n",
    "## **BeautifulSoup4(bs4) 설치하기**\n",
    "\n",
    "### !pip install beautifulsoup4\n",
    "\n",
    "### (!pip install bs4)\n",
    "============================================================================="
   ]
  },
  {
   "cell_type": "code",
   "execution_count": 1,
   "metadata": {},
   "outputs": [
    {
     "name": "stdout",
     "output_type": "stream",
     "text": [
      "Requirement already satisfied: requests in c:\\users\\eungok\\appdata\\local\\programs\\python\\python310\\lib\\site-packages (2.31.0)\n",
      "Requirement already satisfied: charset-normalizer<4,>=2 in c:\\users\\eungok\\appdata\\local\\programs\\python\\python310\\lib\\site-packages (from requests) (3.2.0)\n",
      "Requirement already satisfied: idna<4,>=2.5 in c:\\users\\eungok\\appdata\\local\\programs\\python\\python310\\lib\\site-packages (from requests) (3.4)\n",
      "Requirement already satisfied: urllib3<3,>=1.21.1 in c:\\users\\eungok\\appdata\\local\\programs\\python\\python310\\lib\\site-packages (from requests) (2.0.4)\n",
      "Requirement already satisfied: certifi>=2017.4.17 in c:\\users\\eungok\\appdata\\local\\programs\\python\\python310\\lib\\site-packages (from requests) (2023.7.22)\n"
     ]
    }
   ],
   "source": [
    "#ruquest\n",
    "!pip install requests"
   ]
  },
  {
   "cell_type": "code",
   "execution_count": 6,
   "metadata": {},
   "outputs": [
    {
     "name": "stdout",
     "output_type": "stream",
     "text": [
      "Requirement already satisfied: pip in c:\\users\\eungok\\appdata\\local\\programs\\python\\python310\\lib\\site-packages (23.2.1)\n"
     ]
    }
   ],
   "source": [
    "#upgrade안내 문구가 나오면 아래와같이 pip 업그레이드를 해주세요.\n",
    "!python -m pip install --upgrade pip"
   ]
  },
  {
   "cell_type": "code",
   "execution_count": 4,
   "metadata": {},
   "outputs": [
    {
     "name": "stdout",
     "output_type": "stream",
     "text": [
      "Python 3.10.9\n"
     ]
    }
   ],
   "source": [
    "!python --version"
   ]
  },
  {
   "cell_type": "code",
   "execution_count": 5,
   "metadata": {},
   "outputs": [
    {
     "name": "stdout",
     "output_type": "stream",
     "text": [
      "Requirement already satisfied: beautifulsoup4 in c:\\users\\eungok\\appdata\\local\\programs\\python\\python310\\lib\\site-packages (4.12.2)\n",
      "Requirement already satisfied: soupsieve>1.2 in c:\\users\\eungok\\appdata\\local\\programs\\python\\python310\\lib\\site-packages (from beautifulsoup4) (2.4.1)\n"
     ]
    }
   ],
   "source": [
    "#beautifulsoup4\n",
    "!pip install beautifulsoup4"
   ]
  },
  {
   "cell_type": "markdown",
   "metadata": {
    "colab_type": "text",
    "id": "geNJPrWcjZrP"
   },
   "source": [
    "**특정 웹 사이트 HTML 코드 추출 **"
   ]
  },
  {
   "cell_type": "code",
   "execution_count": 1,
   "metadata": {},
   "outputs": [
    {
     "name": "stdout",
     "output_type": "stream",
     "text": [
      "Requirement already satisfied: lxml in c:\\users\\eungok\\appdata\\local\\programs\\python\\python310\\lib\\site-packages (4.9.3)\n"
     ]
    }
   ],
   "source": [
    "!pip install lxml"
   ]
  },
  {
   "cell_type": "code",
   "execution_count": 2,
   "metadata": {},
   "outputs": [],
   "source": [
    "#필요 모듈 import\n",
    "import requests\n",
    "from bs4 import BeautifulSoup\n",
    "import lxml"
   ]
  },
  {
   "cell_type": "code",
   "execution_count": 10,
   "metadata": {
    "colab": {
     "base_uri": "https://localhost:8080/",
     "height": 1000
    },
    "colab_type": "code",
    "id": "bi5N9w0_jJ3f",
    "outputId": "ae04f470-b509-44c4-f1d5-7c3c77bb6765"
   },
   "outputs": [
    {
     "data": {
      "text/plain": [
       "'Baenna :: Baenna'"
      ]
     },
     "execution_count": 10,
     "metadata": {},
     "output_type": "execute_result"
    }
   ],
   "source": [
    "import requests\n",
    "\n",
    "# 특정 URL에 접속하는 요청(Request) 객체를 생성합니다.\n",
    "# res = requests.get('https://baenna.tistory.com')\n",
    "# res.text\n",
    "\n",
    "url = 'https://baenna.tistory.com'\n",
    "res = requests.get(url)\n",
    "\n",
    "# res.text\n",
    "# soup = BeautifulSoup(res.content, 'html.parser')\n",
    "soup = BeautifulSoup(res.text, 'lxml')\n",
    "\n",
    "my_first_data = soup.find('title')\n",
    "my_first_data.text\n",
    "\n"
   ]
  },
  {
   "cell_type": "code",
   "execution_count": 7,
   "metadata": {},
   "outputs": [],
   "source": [
    "# 홈페이지  title가져오기\n"
   ]
  },
  {
   "cell_type": "code",
   "execution_count": 18,
   "metadata": {},
   "outputs": [
    {
     "name": "stdout",
     "output_type": "stream",
     "text": [
      "오펜하이머\n"
     ]
    }
   ],
   "source": [
    "#naver영화 1위 - 다음영화로 변경\n",
    "import bs4\n",
    "url = 'https://movie.daum.net/ranking/reservation'\n",
    "req =  requests.get(url)\n",
    "html = req.text\n",
    "soup = bs4.BeautifulSoup(html, 'html.parser')\n",
    "print(soup.find('a', class_ = 'link_txt').text)"
   ]
  },
  {
   "cell_type": "code",
   "execution_count": 37,
   "metadata": {},
   "outputs": [
    {
     "name": "stdout",
     "output_type": "stream",
     "text": [
      "1위  오펜하이머\n",
      "2위  콘크리트 유토피아\n",
      "3위  달짝지근해: 7510\n",
      "4위  보호자\n",
      "5위  밀수\n",
      "6위  엘리멘탈\n",
      "7위  메가로돈 2\n",
      "8위  강다니엘: 마이 퍼레이드\n",
      "9위  지옥만세\n",
      "10위  명탐정 코난: 흑철의 어영\n"
     ]
    }
   ],
   "source": [
    "#랭킹 10위 영화 가져오기\n",
    "\n",
    "URL = 'https://movie.daum.net/ranking/reservation'\n",
    "req = requests.get(URL)\n",
    "html = req.text\n",
    "soup = bs4.BeautifulSoup(html, 'lxml')\n",
    "best = soup.select('strong > a')\n",
    "\n",
    "# 모든 a태그에 하나씩 접근해서 text만 가져오기\n",
    "# i = 0\n",
    "# for movie in best[:10]:\n",
    "#     i+=1\n",
    "#     print(i, movie.text)\n",
    "\n",
    "for idx, movie in enumerate(best[:10], start=1):\n",
    "    print(str(idx)+'위 ', movie.text)"
   ]
  },
  {
   "cell_type": "code",
   "execution_count": 42,
   "metadata": {},
   "outputs": [
    {
     "name": "stdout",
     "output_type": "stream",
     "text": [
      "1 오펜하이머\n",
      "2 콘크리트 유토피아\n",
      "3 달짝지근해: 7510\n",
      "4 보호자\n",
      "5 밀수\n",
      "6 엘리멘탈\n",
      "7 메가로돈 2\n",
      "8 강다니엘: 마이 퍼레이드\n",
      "9 지옥만세\n",
      "10 명탐정 코난: 흑철의 어영\n"
     ]
    }
   ],
   "source": [
    "#랭킹 10위 영화 가져오기(get('title')\n",
    "URL = 'https://movie.daum.net/ranking/reservation'\n",
    "req = requests.get(URL)\n",
    "html = req.text\n",
    "soup = bs4.BeautifulSoup(html, 'lxml')\n",
    "best = soup.select('strong>a', class_='link_txt')\n",
    "best[0].text\n",
    "for idx, movie in enumerate(best[:10], start=1):\n",
    "    b = movie.get_text()\n",
    "    print(idx, b)"
   ]
  },
  {
   "cell_type": "code",
   "execution_count": 72,
   "metadata": {},
   "outputs": [
    {
     "name": "stdout",
     "output_type": "stream",
     "text": [
      "1위  오펜하이머\n",
      "2위  콘크리트 유토피아\n",
      "3위  달짝지근해: 7510\n",
      "4위  보호자\n",
      "5위  밀수\n",
      "6위  엘리멘탈\n",
      "7위  메가로돈 2\n",
      "8위  강다니엘: 마이 퍼레이드\n",
      "9위  지옥만세\n",
      "10위  명탐정 코난: 흑철의 어영\n",
      "11위  비공식작전\n",
      "12위  런닝맨: 리벤져스\n",
      "13위  미션 임파서블: 데드 레코닝 PART ONE\n",
      "14위  더 문\n",
      "15위  바비\n",
      "16위  바다 탐험대 옥토넛 어보브 앤 비욘드 : 육지 넘어 하늘까지!\n",
      "17위  엔니오: 더 마에스트로\n",
      "18위  킬러의 레스토랑\n",
      "19위  잠\n",
      "20위  치치치 치킨의 비밀\n"
     ]
    }
   ],
   "source": [
    "#랭킹 10위 영화 가져오기(#find_all사용)\n",
    "URL = 'https://movie.daum.net/ranking/reservation'\n",
    "req = requests.get(URL)\n",
    "html = req.text\n",
    "soup = bs4.BeautifulSoup(html, 'lxml')\n",
    "best = soup.find_all('a', class_='link_txt')\n",
    "\n",
    "# 모든 a태그에 하나씩 접근해서 text만 가져오기\n",
    "# i = 0\n",
    "# for movie in best[:10]:\n",
    "#     i+=1\n",
    "#     print(i, movie.text)\n",
    "\n",
    "for idx, movie in enumerate(best[:20], start=1):\n",
    "    print(str(idx)+'위 ', movie.get_text().strip())\n"
   ]
  },
  {
   "cell_type": "code",
   "execution_count": 80,
   "metadata": {},
   "outputs": [
    {
     "name": "stdout",
     "output_type": "stream",
     "text": [
      "1 미운 우리 새끼\n",
      "2 SBS\n",
      "3 2023 새만금 세계스카우트잼버리 케이팝 슈퍼라이브 2부\n",
      "4 KBS2\n",
      "5 2023 새만금 세계스카우트잼버리 케이팝 슈퍼라이브 1부\n",
      "6 KBS2\n",
      "7 나 혼자 산다\n",
      "8 MBC\n",
      "9 1박 2일 시즌4\n",
      "10 KBS2\n",
      "11 아침마당\n",
      "12 KBS1\n",
      "13 골 때리는 그녀들\n",
      "14 SBS\n",
      "15 TV 동물농장\n",
      "16 SBS\n",
      "17 신발 벗고 돌싱포맨\n",
      "18 SBS\n",
      "19 동상이몽 2 - 너는 내 운명\n",
      "20 SBS\n",
      "21 태어난 김에 세계일주2 (태계일주2)\n",
      "22 MBC\n",
      "23 궁금한 이야기 Y\n",
      "24 SBS\n",
      "25 전국노래자랑\n",
      "26 KBS1\n",
      "27 불후의 명곡\n",
      "28 KBS2\n",
      "29 가요무대 스페셜 2023 상반기 하이라이트\n",
      "30 KBS1\n",
      "31 사장님 귀는 당나귀 귀\n",
      "32 KBS2\n",
      "33 신상출시 편스토랑\n",
      "34 KBS2\n",
      "35 안싸우면 다행이야\n",
      "36 MBC\n",
      "37 라디오스타\n",
      "38 MBC\n",
      "39 시니어 토크쇼 황금연못\n",
      "40 KBS1\n"
     ]
    }
   ],
   "source": [
    "# 주간 예능시청률\n",
    "res = requests.get(\"https://search.naver.com/search.naver?where=nexearch&sm=tab_etc&mra=blUw&qvt=0&query=%EC%A3%BC%EA%B0%84%EC%98%88%EB%8A%A5%20%EC%8B%9C%EC%B2%AD%EB%A5%A0\")\n",
    "soup = BeautifulSoup(res.text, 'lxml')\n",
    "program_names = soup.select('td>p>a')\n",
    "\n",
    "for idx, tag in enumerate(program_names, start=1):\n",
    "    print(idx, tag.get_text())"
   ]
  },
  {
   "cell_type": "code",
   "execution_count": 81,
   "metadata": {},
   "outputs": [
    {
     "name": "stdout",
     "output_type": "stream",
     "text": [
      "1위:ETA\n",
      "2위:Super Shy\n",
      "3위:Seven (feat. Latto) - Clean Ver.\n",
      "4위:New Jeans\n",
      "5위:I AM\n",
      "6위:Fast Forward\n",
      "7위:Steal The Show (From “엘리멘탈”)\n",
      "8위:Summer (Feat. BE’O (비오))\n",
      "9위:퀸카 (Queencard)\n",
      "10위:Cool With You\n",
      "11위:헤어지자 말해요\n",
      "12위:Spicy\n",
      "13위:이브, 프시케 그리고 푸른 수염의 아내\n",
      "14위:Hype Boy\n",
      "15위:Underwater\n",
      "16위:Ditto\n",
      "17위:Kitsch\n",
      "18위:여름이 들려 (Summer Comes)\n",
      "19위:Attention\n",
      "20위:UNFORGIVEN (feat. Nile Rodgers)\n",
      "21위:CAKE\n",
      "22위:ASAP\n",
      "23위:사건의 지평선\n",
      "24위:After LIKE\n",
      "25위:LOVE DIVE\n",
      "26위:OMG\n",
      "27위:한 페이지가 될 수 있게\n",
      "28위:Bubble\n",
      "29위:ELEVEN\n",
      "30위:손오공\n",
      "31위:I Don’t Think That I Like Her\n",
      "32위:Off My Face\n",
      "33위:Dangerously\n",
      "34위:Cupid\n",
      "35위:건물 사이에 피어난 장미 (Rose Blossom)\n",
      "36위:파이팅 해야지 (Feat. 이영지)\n",
      "37위:When I Get Old\n",
      "38위:사막에서 꽃을 피우듯\n",
      "39위:Pink Venom\n",
      "40위:ANTIFRAGILE\n",
      "41위:꽃\n",
      "42위:나의 X에게\n",
      "43위:여름날 (feat. 하현상)\n",
      "44위:ISTJ\n",
      "45위:나의 바람 (Wind And Wish)\n",
      "46위:해요 (2022)\n",
      "47위:모든 날, 모든 순간 (Every day, Every Moment)\n",
      "48위:FEARLESS\n",
      "49위:Monologue\n",
      "50위:잠깐 시간 될까\n",
      "51위:STAY\n",
      "52위:사랑의 바보\n",
      "53위:사랑은 늘 도망가\n",
      "54위:주저하는 연인들을 위해\n",
      "55위:사랑인가 봐\n",
      "56위:도깨비불 (Illusion)\n",
      "57위:HARD\n",
      "58위:Teddy Bear\n",
      "59위:오르트구름\n",
      "60위:That’s Not How This Works (feat. Dan + Shay)\n",
      "61위:Cookie\n",
      "62위:너의 모든 순간\n",
      "63위:Nxde\n",
      "64위:취중고백\n",
      "65위:strawberry moon\n",
      "66위:Candy\n",
      "67위:빛이 나는 너에게\n",
      "68위:Thirsty\n",
      "69위:KNOCK\n",
      "70위:나에게 그대만이\n",
      "71위:심(心)\n",
      "72위:Allergy\n",
      "73위:그라데이션\n",
      "74위:That's Hilarious\n",
      "75위:Roller Coaster\n",
      "76위:TOMBOY\n",
      "77위:정이라고 하자 (Feat. 10CM)\n",
      "78위:그때 그 순간 그대로 (그그그)\n",
      "79위:다정히 내 이름을 부르면\n",
      "80위:Love Me Like This\n",
      "81위:I WANT\n",
      "82위:Still With You\n",
      "83위:거리에서 (Feat. ASH ISLAND)\n",
      "84위:민들레 (single ver.)\n",
      "85위:특\n",
      "86위:물론\n",
      "87위:Shut Down\n",
      "88위:드라마\n",
      "89위:INVU\n",
      "90위:잘 지내자, 우리 (여름날 우리 X 로이킴)\n",
      "91위:Feel My Rhythm\n",
      "92위:Dynamite\n",
      "93위:Seven (feat. Latto) - Explicit Ver.\n",
      "94위:예뻤어 (여름날 우리 X 김민석 (멜로망스))\n",
      "95위:사실말야내가말야그게그러니까말이야\n",
      "96위:그대만 있다면 (여름날 우리 X 너드커넥션 (Nerd Connection))\n",
      "97위:찬란한 하루\n",
      "98위:한강에서 (Feat. BIG Naughty)\n",
      "99위:Love Me Love Me\n",
      "100위:Salty & Sweet\n"
     ]
    }
   ],
   "source": [
    "# 벅스뮤직 상위 10\n",
    "from urllib.request import urlopen\n",
    "from bs4 import BeautifulSoup\n",
    "url = urlopen(\"https://music.bugs.co.kr/chart?wl_ref=M_left_02_01\")\n",
    "soup = BeautifulSoup(url.read(),'lxml')\n",
    "musics = soup.find_all('td', class_='check')\n",
    "for idx, music in enumerate(musics[:], start=1):\n",
    "    print('{}위:{}'.format(idx,music.input['title']))"
   ]
  },
  {
   "cell_type": "code",
   "execution_count": 86,
   "metadata": {},
   "outputs": [
    {
     "name": "stdout",
     "output_type": "stream",
     "text": [
      "1 신성델타테크\n",
      "2 에코프로\n",
      "3 POSCO홀딩스\n",
      "4 금양\n",
      "5 엘앤에프\n",
      "6 서남\n",
      "7 에코프로비엠\n",
      "8 삼성전자\n",
      "9 삼기이브이\n",
      "10 LS전선아시아\n"
     ]
    }
   ],
   "source": [
    "#인기검색종목 10개\n",
    "naver_fin = requests.get('https://finance.naver.com/sise/')\n",
    "soup = BeautifulSoup(naver_fin.content, 'lxml')\n",
    "\n",
    "data = soup.select('#popularItemList>li>a')\n",
    "\n",
    "for idx, item in enumerate(data, start=1):\n",
    "    print(idx, item.get_text())\n"
   ]
  },
  {
   "cell_type": "code",
   "execution_count": 15,
   "metadata": {},
   "outputs": [],
   "source": [
    "#가격도 출력\n",
    "naver_fin = requests.get('https://finance.naver.com/sise/')\n"
   ]
  },
  {
   "cell_type": "code",
   "execution_count": 16,
   "metadata": {},
   "outputs": [],
   "source": [
    "#find사용\n"
   ]
  },
  {
   "cell_type": "code",
   "execution_count": 17,
   "metadata": {},
   "outputs": [],
   "source": [
    "#주요해외지수도 가져오기\n",
    "naver_fin = requests.get('https://finance.naver.com/sise/')\n"
   ]
  },
  {
   "cell_type": "code",
   "execution_count": 2,
   "metadata": {},
   "outputs": [],
   "source": [
    "#naver_fin = requests.get('https://finance.naver.com/sise/')\n"
   ]
  },
  {
   "cell_type": "code",
   "execution_count": 20,
   "metadata": {},
   "outputs": [],
   "source": [
    "#응답이 없거나에러발생시\n",
    "import requests\n",
    "res=requests.get(\"http://danawa.com\")\n",
    "print(\"응답코드\", res.status_code)\n"
   ]
  },
  {
   "cell_type": "code",
   "execution_count": 110,
   "metadata": {},
   "outputs": [
    {
     "name": "stdout",
     "output_type": "stream",
     "text": [
      "1 보몽드 순면스퀘어 솔리드 누빔매트커버, 다크블루\n",
      "\n",
      "\n",
      "2 슈에뜨룸 선인장 리플 침구 세트, 베이지\n",
      "\n",
      "\n",
      "3 선우랜드 레인보우 2단 문걸이용 옷걸이 _중형, 화이트, 상세페이지참조\n",
      "\n",
      "\n",
      "4 보드래 헬로우 누빔 매트리스커버, 핑크\n",
      "\n",
      "\n",
      "5 보드래 퍼펙트 누빔 매트리스커버, 차콜\n",
      "\n",
      "\n",
      "6 피아블 클래식 방수 매트리스커버, 화이트\n",
      "\n",
      "\n",
      "7 더자리 에코항균 마이크로 매트리스커버, 밀키차콜그레이\n",
      "\n",
      "\n",
      "8 더자리 프레쉬 퓨어 매트리스 커버, 퓨어 차콜그레이\n",
      "\n",
      "\n",
      "9 몽쉐어 알러스킨 항균 매트리스 커버, 카키그레이\n",
      "\n",
      "\n",
      "10 쿠팡 브랜드 - 코멧 홈 40수 트윌 순면 100% 홑겹 매트리스커버, 그레이\n",
      "\n",
      "\n",
      "11 패브릭아트 항균 마이크로 원단 매트리스 커버, 아이보리\n",
      "\n",
      "\n",
      "12 바숨 순면 누빔 침대 매트리스커버, 차콜\n",
      "\n",
      "\n",
      "13 WEMAX 다용도 문옷걸이, 화이트, 1개\n",
      "\n",
      "\n",
      "14 타카타카 프리미엄 나노 화이바 누빔 매트리스 커버, 젠틀핑핑\n",
      "\n",
      "\n",
      "15 보몽드 순면스퀘어 누빔매트커버, 다크그레이\n",
      "\n",
      "\n",
      "16 보드래 국내산 순면 60수 누빔 매트리스커버, 그레이\n",
      "\n",
      "\n",
      "17 보몽드 순면스퀘어 솔리드 누빔매트커버, 다크블루\n",
      "\n",
      "\n",
      "18 슈에뜨룸 선인장 리플 침구 세트, 베이지\n",
      "\n",
      "\n",
      "19 선우랜드 레인보우 2단 문걸이용 옷걸이 _중형, 화이트, 상세페이지참조\n",
      "\n",
      "\n",
      "20 보드래 헬로우 누빔 매트리스커버, 핑크\n",
      "\n",
      "\n",
      "21 보드래 퍼펙트 누빔 매트리스커버, 차콜\n",
      "\n",
      "\n",
      "22 피아블 클래식 방수 매트리스커버, 화이트\n",
      "\n",
      "\n",
      "23 더자리 에코항균 마이크로 매트리스커버, 밀키차콜그레이\n",
      "\n",
      "\n",
      "24 더자리 프레쉬 퓨어 매트리스 커버, 퓨어 차콜그레이\n",
      "\n",
      "\n",
      "25 몽쉐어 알러스킨 항균 매트리스 커버, 카키그레이\n",
      "\n",
      "\n",
      "26 쿠팡 브랜드 - 코멧 홈 40수 트윌 순면 100% 홑겹 매트리스커버, 그레이\n",
      "\n",
      "\n",
      "27 패브릭아트 항균 마이크로 원단 매트리스 커버, 아이보리\n",
      "\n",
      "\n",
      "28 바숨 순면 누빔 침대 매트리스커버, 차콜\n",
      "\n",
      "\n",
      "29 WEMAX 다용도 문옷걸이, 화이트, 1개\n",
      "\n",
      "\n",
      "30 타카타카 프리미엄 나노 화이바 누빔 매트리스 커버, 젠틀핑핑\n",
      "\n",
      "\n",
      "31 보몽드 순면스퀘어 누빔매트커버, 다크그레이\n",
      "\n",
      "\n",
      "32 보드래 국내산 순면 60수 누빔 매트리스커버, 그레이\n",
      "\n",
      "\n"
     ]
    }
   ],
   "source": [
    "#쇼핑몰 아이템 리스트 가져오기\n",
    "import pandas as pd\n",
    "import csv\n",
    "\n",
    "res = requests.get('https://davelee-fun.github.io/categories#%EA%B0%80%EA%B5%AC/%EC%9D%B8%ED%85%8C%EB%A6%AC%EC%96%B4')\n",
    "if res.status_code !=200:\n",
    "    print('페이지없음')\n",
    "else:\n",
    "    soup = BeautifulSoup(res.content, 'lxml')\n",
    "    data = soup.select('h4.card-text')\n",
    "    for item in data:\n",
    "        # print(item.get_text())\n",
    "        home = []\n",
    "i = 0\n",
    "for page_num in range(0,2):\n",
    "    if page_num == 0 :\n",
    "        res = requests.get('https://davelee-fun.github.io')\n",
    "    else:\n",
    "        rLes = requests.get('https://davelee-fun.github.io/page' +str(page_num+1))\n",
    "    soup = BeautifulSoup(res.content, 'lxml')\n",
    "    data = soup.select('h4.card-text')\n",
    "\n",
    "    for item in data:\n",
    "        i+=1\n",
    "        print(i, item.get_text()[5:])\n",
    "        home.append(item.get_text()[5:])\n",
    "\n",
    "with open('침구류.csv', 'w') as f:\n",
    "    writer = csv.writer(f)\n",
    "    writer.writerow(home)\n",
    "        "
   ]
  },
  {
   "cell_type": "code",
   "execution_count": 113,
   "metadata": {},
   "outputs": [
    {
     "data": {
      "text/html": [
       "<div>\n",
       "<style scoped>\n",
       "    .dataframe tbody tr th:only-of-type {\n",
       "        vertical-align: middle;\n",
       "    }\n",
       "\n",
       "    .dataframe tbody tr th {\n",
       "        vertical-align: top;\n",
       "    }\n",
       "\n",
       "    .dataframe thead th {\n",
       "        text-align: right;\n",
       "    }\n",
       "</style>\n",
       "<table border=\"1\" class=\"dataframe\">\n",
       "  <thead>\n",
       "    <tr style=\"text-align: right;\">\n",
       "      <th></th>\n",
       "      <th>상품명</th>\n",
       "    </tr>\n",
       "  </thead>\n",
       "  <tbody>\n",
       "    <tr>\n",
       "      <th>0</th>\n",
       "      <td>보몽드 순면스퀘어 솔리드 누빔매트커버, 다크블루\\n\\n</td>\n",
       "    </tr>\n",
       "    <tr>\n",
       "      <th>1</th>\n",
       "      <td>슈에뜨룸 선인장 리플 침구 세트, 베이지\\n\\n</td>\n",
       "    </tr>\n",
       "    <tr>\n",
       "      <th>2</th>\n",
       "      <td>선우랜드 레인보우 2단 문걸이용 옷걸이 _중형, 화이트, 상세페이지참조\\n\\n</td>\n",
       "    </tr>\n",
       "    <tr>\n",
       "      <th>3</th>\n",
       "      <td>보드래 헬로우 누빔 매트리스커버, 핑크\\n\\n</td>\n",
       "    </tr>\n",
       "    <tr>\n",
       "      <th>4</th>\n",
       "      <td>보드래 퍼펙트 누빔 매트리스커버, 차콜\\n\\n</td>\n",
       "    </tr>\n",
       "    <tr>\n",
       "      <th>5</th>\n",
       "      <td>피아블 클래식 방수 매트리스커버, 화이트\\n\\n</td>\n",
       "    </tr>\n",
       "    <tr>\n",
       "      <th>6</th>\n",
       "      <td>더자리 에코항균 마이크로 매트리스커버, 밀키차콜그레이\\n\\n</td>\n",
       "    </tr>\n",
       "    <tr>\n",
       "      <th>7</th>\n",
       "      <td>더자리 프레쉬 퓨어 매트리스 커버, 퓨어 차콜그레이\\n\\n</td>\n",
       "    </tr>\n",
       "    <tr>\n",
       "      <th>8</th>\n",
       "      <td>몽쉐어 알러스킨 항균 매트리스 커버, 카키그레이\\n\\n</td>\n",
       "    </tr>\n",
       "    <tr>\n",
       "      <th>9</th>\n",
       "      <td>쿠팡 브랜드 - 코멧 홈 40수 트윌 순면 100% 홑겹 매트리스커버, 그레이\\n\\n</td>\n",
       "    </tr>\n",
       "    <tr>\n",
       "      <th>10</th>\n",
       "      <td>패브릭아트 항균 마이크로 원단 매트리스 커버, 아이보리\\n\\n</td>\n",
       "    </tr>\n",
       "    <tr>\n",
       "      <th>11</th>\n",
       "      <td>바숨 순면 누빔 침대 매트리스커버, 차콜\\n\\n</td>\n",
       "    </tr>\n",
       "    <tr>\n",
       "      <th>12</th>\n",
       "      <td>WEMAX 다용도 문옷걸이, 화이트, 1개\\n\\n</td>\n",
       "    </tr>\n",
       "    <tr>\n",
       "      <th>13</th>\n",
       "      <td>타카타카 프리미엄 나노 화이바 누빔 매트리스 커버, 젠틀핑핑\\n\\n</td>\n",
       "    </tr>\n",
       "    <tr>\n",
       "      <th>14</th>\n",
       "      <td>보몽드 순면스퀘어 누빔매트커버, 다크그레이\\n\\n</td>\n",
       "    </tr>\n",
       "    <tr>\n",
       "      <th>15</th>\n",
       "      <td>보드래 국내산 순면 60수 누빔 매트리스커버, 그레이\\n\\n</td>\n",
       "    </tr>\n",
       "    <tr>\n",
       "      <th>16</th>\n",
       "      <td>보몽드 순면스퀘어 솔리드 누빔매트커버, 다크블루\\n\\n</td>\n",
       "    </tr>\n",
       "    <tr>\n",
       "      <th>17</th>\n",
       "      <td>슈에뜨룸 선인장 리플 침구 세트, 베이지\\n\\n</td>\n",
       "    </tr>\n",
       "    <tr>\n",
       "      <th>18</th>\n",
       "      <td>선우랜드 레인보우 2단 문걸이용 옷걸이 _중형, 화이트, 상세페이지참조\\n\\n</td>\n",
       "    </tr>\n",
       "    <tr>\n",
       "      <th>19</th>\n",
       "      <td>보드래 헬로우 누빔 매트리스커버, 핑크\\n\\n</td>\n",
       "    </tr>\n",
       "    <tr>\n",
       "      <th>20</th>\n",
       "      <td>보드래 퍼펙트 누빔 매트리스커버, 차콜\\n\\n</td>\n",
       "    </tr>\n",
       "    <tr>\n",
       "      <th>21</th>\n",
       "      <td>피아블 클래식 방수 매트리스커버, 화이트\\n\\n</td>\n",
       "    </tr>\n",
       "    <tr>\n",
       "      <th>22</th>\n",
       "      <td>더자리 에코항균 마이크로 매트리스커버, 밀키차콜그레이\\n\\n</td>\n",
       "    </tr>\n",
       "    <tr>\n",
       "      <th>23</th>\n",
       "      <td>더자리 프레쉬 퓨어 매트리스 커버, 퓨어 차콜그레이\\n\\n</td>\n",
       "    </tr>\n",
       "    <tr>\n",
       "      <th>24</th>\n",
       "      <td>몽쉐어 알러스킨 항균 매트리스 커버, 카키그레이\\n\\n</td>\n",
       "    </tr>\n",
       "    <tr>\n",
       "      <th>25</th>\n",
       "      <td>쿠팡 브랜드 - 코멧 홈 40수 트윌 순면 100% 홑겹 매트리스커버, 그레이\\n\\n</td>\n",
       "    </tr>\n",
       "    <tr>\n",
       "      <th>26</th>\n",
       "      <td>패브릭아트 항균 마이크로 원단 매트리스 커버, 아이보리\\n\\n</td>\n",
       "    </tr>\n",
       "    <tr>\n",
       "      <th>27</th>\n",
       "      <td>바숨 순면 누빔 침대 매트리스커버, 차콜\\n\\n</td>\n",
       "    </tr>\n",
       "    <tr>\n",
       "      <th>28</th>\n",
       "      <td>WEMAX 다용도 문옷걸이, 화이트, 1개\\n\\n</td>\n",
       "    </tr>\n",
       "    <tr>\n",
       "      <th>29</th>\n",
       "      <td>타카타카 프리미엄 나노 화이바 누빔 매트리스 커버, 젠틀핑핑\\n\\n</td>\n",
       "    </tr>\n",
       "    <tr>\n",
       "      <th>30</th>\n",
       "      <td>보몽드 순면스퀘어 누빔매트커버, 다크그레이\\n\\n</td>\n",
       "    </tr>\n",
       "    <tr>\n",
       "      <th>31</th>\n",
       "      <td>보드래 국내산 순면 60수 누빔 매트리스커버, 그레이\\n\\n</td>\n",
       "    </tr>\n",
       "  </tbody>\n",
       "</table>\n",
       "</div>"
      ],
      "text/plain": [
       "                                                상품명\n",
       "0                    보몽드 순면스퀘어 솔리드 누빔매트커버, 다크블루\\n\\n\n",
       "1                        슈에뜨룸 선인장 리플 침구 세트, 베이지\\n\\n\n",
       "2       선우랜드 레인보우 2단 문걸이용 옷걸이 _중형, 화이트, 상세페이지참조\\n\\n\n",
       "3                         보드래 헬로우 누빔 매트리스커버, 핑크\\n\\n\n",
       "4                         보드래 퍼펙트 누빔 매트리스커버, 차콜\\n\\n\n",
       "5                        피아블 클래식 방수 매트리스커버, 화이트\\n\\n\n",
       "6                 더자리 에코항균 마이크로 매트리스커버, 밀키차콜그레이\\n\\n\n",
       "7                  더자리 프레쉬 퓨어 매트리스 커버, 퓨어 차콜그레이\\n\\n\n",
       "8                    몽쉐어 알러스킨 항균 매트리스 커버, 카키그레이\\n\\n\n",
       "9   쿠팡 브랜드 - 코멧 홈 40수 트윌 순면 100% 홑겹 매트리스커버, 그레이\\n\\n\n",
       "10               패브릭아트 항균 마이크로 원단 매트리스 커버, 아이보리\\n\\n\n",
       "11                       바숨 순면 누빔 침대 매트리스커버, 차콜\\n\\n\n",
       "12                      WEMAX 다용도 문옷걸이, 화이트, 1개\\n\\n\n",
       "13            타카타카 프리미엄 나노 화이바 누빔 매트리스 커버, 젠틀핑핑\\n\\n\n",
       "14                      보몽드 순면스퀘어 누빔매트커버, 다크그레이\\n\\n\n",
       "15                보드래 국내산 순면 60수 누빔 매트리스커버, 그레이\\n\\n\n",
       "16                   보몽드 순면스퀘어 솔리드 누빔매트커버, 다크블루\\n\\n\n",
       "17                       슈에뜨룸 선인장 리플 침구 세트, 베이지\\n\\n\n",
       "18      선우랜드 레인보우 2단 문걸이용 옷걸이 _중형, 화이트, 상세페이지참조\\n\\n\n",
       "19                        보드래 헬로우 누빔 매트리스커버, 핑크\\n\\n\n",
       "20                        보드래 퍼펙트 누빔 매트리스커버, 차콜\\n\\n\n",
       "21                       피아블 클래식 방수 매트리스커버, 화이트\\n\\n\n",
       "22                더자리 에코항균 마이크로 매트리스커버, 밀키차콜그레이\\n\\n\n",
       "23                 더자리 프레쉬 퓨어 매트리스 커버, 퓨어 차콜그레이\\n\\n\n",
       "24                   몽쉐어 알러스킨 항균 매트리스 커버, 카키그레이\\n\\n\n",
       "25  쿠팡 브랜드 - 코멧 홈 40수 트윌 순면 100% 홑겹 매트리스커버, 그레이\\n\\n\n",
       "26               패브릭아트 항균 마이크로 원단 매트리스 커버, 아이보리\\n\\n\n",
       "27                       바숨 순면 누빔 침대 매트리스커버, 차콜\\n\\n\n",
       "28                      WEMAX 다용도 문옷걸이, 화이트, 1개\\n\\n\n",
       "29            타카타카 프리미엄 나노 화이바 누빔 매트리스 커버, 젠틀핑핑\\n\\n\n",
       "30                      보몽드 순면스퀘어 누빔매트커버, 다크그레이\\n\\n\n",
       "31                보드래 국내산 순면 60수 누빔 매트리스커버, 그레이\\n\\n"
      ]
     },
     "execution_count": 113,
     "metadata": {},
     "output_type": "execute_result"
    }
   ],
   "source": [
    "pd.DataFrame(home, columns=['상품명'])"
   ]
  },
  {
   "cell_type": "code",
   "execution_count": 119,
   "metadata": {},
   "outputs": [
    {
     "data": {
      "text/html": [
       "<div>\n",
       "<style scoped>\n",
       "    .dataframe tbody tr th:only-of-type {\n",
       "        vertical-align: middle;\n",
       "    }\n",
       "\n",
       "    .dataframe tbody tr th {\n",
       "        vertical-align: top;\n",
       "    }\n",
       "\n",
       "    .dataframe thead tr th {\n",
       "        text-align: left;\n",
       "    }\n",
       "</style>\n",
       "<table border=\"1\" class=\"dataframe\">\n",
       "  <thead>\n",
       "    <tr>\n",
       "      <th></th>\n",
       "      <th>보몽드 순면스퀘어 솔리드 누빔매트커버, 다크블루\\r\\n\\r\\n</th>\n",
       "    </tr>\n",
       "    <tr>\n",
       "      <th></th>\n",
       "      <th>슈에뜨룸 선인장 리플 침구 세트, 베이지\\r\\n\\r\\n</th>\n",
       "    </tr>\n",
       "    <tr>\n",
       "      <th></th>\n",
       "      <th>선우랜드 레인보우 2단 문걸이용 옷걸이 _중형, 화이트, 상세페이지참조\\r\\n\\r\\n</th>\n",
       "    </tr>\n",
       "    <tr>\n",
       "      <th></th>\n",
       "      <th>보드래 헬로우 누빔 매트리스커버, 핑크\\r\\n\\r\\n</th>\n",
       "    </tr>\n",
       "    <tr>\n",
       "      <th></th>\n",
       "      <th>보드래 퍼펙트 누빔 매트리스커버, 차콜\\r\\n\\r\\n</th>\n",
       "    </tr>\n",
       "    <tr>\n",
       "      <th></th>\n",
       "      <th>피아블 클래식 방수 매트리스커버, 화이트\\r\\n\\r\\n</th>\n",
       "    </tr>\n",
       "    <tr>\n",
       "      <th></th>\n",
       "      <th>더자리 에코항균 마이크로 매트리스커버, 밀키차콜그레이\\r\\n\\r\\n</th>\n",
       "    </tr>\n",
       "    <tr>\n",
       "      <th></th>\n",
       "      <th>더자리 프레쉬 퓨어 매트리스 커버, 퓨어 차콜그레이\\r\\n\\r\\n</th>\n",
       "    </tr>\n",
       "    <tr>\n",
       "      <th></th>\n",
       "      <th>몽쉐어 알러스킨 항균 매트리스 커버, 카키그레이\\r\\n\\r\\n</th>\n",
       "    </tr>\n",
       "    <tr>\n",
       "      <th></th>\n",
       "      <th>쿠팡 브랜드 - 코멧 홈 40수 트윌 순면 100% 홑겹 매트리스커버, 그레이\\r\\n\\r\\n</th>\n",
       "    </tr>\n",
       "    <tr>\n",
       "      <th></th>\n",
       "      <th>패브릭아트 항균 마이크로 원단 매트리스 커버, 아이보리\\r\\n\\r\\n</th>\n",
       "    </tr>\n",
       "    <tr>\n",
       "      <th></th>\n",
       "      <th>바숨 순면 누빔 침대 매트리스커버, 차콜\\r\\n\\r\\n</th>\n",
       "    </tr>\n",
       "    <tr>\n",
       "      <th></th>\n",
       "      <th>WEMAX 다용도 문옷걸이, 화이트, 1개\\r\\n\\r\\n</th>\n",
       "    </tr>\n",
       "    <tr>\n",
       "      <th></th>\n",
       "      <th>타카타카 프리미엄 나노 화이바 누빔 매트리스 커버, 젠틀핑핑\\r\\n\\r\\n</th>\n",
       "    </tr>\n",
       "    <tr>\n",
       "      <th></th>\n",
       "      <th>보몽드 순면스퀘어 누빔매트커버, 다크그레이\\r\\n\\r\\n</th>\n",
       "    </tr>\n",
       "    <tr>\n",
       "      <th></th>\n",
       "      <th>보드래 국내산 순면 60수 누빔 매트리스커버, 그레이\\r\\n\\r\\n</th>\n",
       "    </tr>\n",
       "    <tr>\n",
       "      <th></th>\n",
       "      <th>보몽드 순면스퀘어 솔리드 누빔매트커버, 다크블루\\r\\n\\r\\n</th>\n",
       "    </tr>\n",
       "    <tr>\n",
       "      <th></th>\n",
       "      <th>슈에뜨룸 선인장 리플 침구 세트, 베이지\\r\\n\\r\\n</th>\n",
       "    </tr>\n",
       "    <tr>\n",
       "      <th></th>\n",
       "      <th>선우랜드 레인보우 2단 문걸이용 옷걸이 _중형, 화이트, 상세페이지참조\\r\\n\\r\\n</th>\n",
       "    </tr>\n",
       "    <tr>\n",
       "      <th></th>\n",
       "      <th>보드래 헬로우 누빔 매트리스커버, 핑크\\r\\n\\r\\n</th>\n",
       "    </tr>\n",
       "    <tr>\n",
       "      <th></th>\n",
       "      <th>보드래 퍼펙트 누빔 매트리스커버, 차콜\\r\\n\\r\\n</th>\n",
       "    </tr>\n",
       "    <tr>\n",
       "      <th></th>\n",
       "      <th>피아블 클래식 방수 매트리스커버, 화이트\\r\\n\\r\\n</th>\n",
       "    </tr>\n",
       "    <tr>\n",
       "      <th></th>\n",
       "      <th>더자리 에코항균 마이크로 매트리스커버, 밀키차콜그레이\\r\\n\\r\\n</th>\n",
       "    </tr>\n",
       "    <tr>\n",
       "      <th></th>\n",
       "      <th>더자리 프레쉬 퓨어 매트리스 커버, 퓨어 차콜그레이\\r\\n\\r\\n</th>\n",
       "    </tr>\n",
       "    <tr>\n",
       "      <th></th>\n",
       "      <th>몽쉐어 알러스킨 항균 매트리스 커버, 카키그레이\\r\\n\\r\\n</th>\n",
       "    </tr>\n",
       "    <tr>\n",
       "      <th></th>\n",
       "      <th>쿠팡 브랜드 - 코멧 홈 40수 트윌 순면 100% 홑겹 매트리스커버, 그레이\\r\\n\\r\\n</th>\n",
       "    </tr>\n",
       "    <tr>\n",
       "      <th></th>\n",
       "      <th>패브릭아트 항균 마이크로 원단 매트리스 커버, 아이보리\\r\\n\\r\\n</th>\n",
       "    </tr>\n",
       "    <tr>\n",
       "      <th></th>\n",
       "      <th>바숨 순면 누빔 침대 매트리스커버, 차콜\\r\\n\\r\\n</th>\n",
       "    </tr>\n",
       "    <tr>\n",
       "      <th></th>\n",
       "      <th>WEMAX 다용도 문옷걸이, 화이트, 1개\\r\\n\\r\\n</th>\n",
       "    </tr>\n",
       "    <tr>\n",
       "      <th></th>\n",
       "      <th>타카타카 프리미엄 나노 화이바 누빔 매트리스 커버, 젠틀핑핑\\r\\n\\r\\n</th>\n",
       "    </tr>\n",
       "    <tr>\n",
       "      <th></th>\n",
       "      <th>보몽드 순면스퀘어 누빔매트커버, 다크그레이\\r\\n\\r\\n</th>\n",
       "    </tr>\n",
       "  </thead>\n",
       "  <tbody>\n",
       "    <tr>\n",
       "      <th>상품명</th>\n",
       "      <td>보드래 국내산 순면 60수 누빔 매트리스커버, 그레이\\r\\n\\r\\n</td>\n",
       "    </tr>\n",
       "  </tbody>\n",
       "</table>\n",
       "</div>"
      ],
      "text/plain": [
       "                     보몽드 순면스퀘어 솔리드 누빔매트커버, 다크블루\\r\\n\\r\\n\n",
       "                         슈에뜨룸 선인장 리플 침구 세트, 베이지\\r\\n\\r\\n\n",
       "        선우랜드 레인보우 2단 문걸이용 옷걸이 _중형, 화이트, 상세페이지참조\\r\\n\\r\\n\n",
       "                          보드래 헬로우 누빔 매트리스커버, 핑크\\r\\n\\r\\n\n",
       "                          보드래 퍼펙트 누빔 매트리스커버, 차콜\\r\\n\\r\\n\n",
       "                         피아블 클래식 방수 매트리스커버, 화이트\\r\\n\\r\\n\n",
       "                  더자리 에코항균 마이크로 매트리스커버, 밀키차콜그레이\\r\\n\\r\\n\n",
       "                   더자리 프레쉬 퓨어 매트리스 커버, 퓨어 차콜그레이\\r\\n\\r\\n\n",
       "                     몽쉐어 알러스킨 항균 매트리스 커버, 카키그레이\\r\\n\\r\\n\n",
       "    쿠팡 브랜드 - 코멧 홈 40수 트윌 순면 100% 홑겹 매트리스커버, 그레이\\r\\n\\r\\n\n",
       "                 패브릭아트 항균 마이크로 원단 매트리스 커버, 아이보리\\r\\n\\r\\n\n",
       "                         바숨 순면 누빔 침대 매트리스커버, 차콜\\r\\n\\r\\n\n",
       "                        WEMAX 다용도 문옷걸이, 화이트, 1개\\r\\n\\r\\n\n",
       "              타카타카 프리미엄 나노 화이바 누빔 매트리스 커버, 젠틀핑핑\\r\\n\\r\\n\n",
       "                        보몽드 순면스퀘어 누빔매트커버, 다크그레이\\r\\n\\r\\n\n",
       "                  보드래 국내산 순면 60수 누빔 매트리스커버, 그레이\\r\\n\\r\\n\n",
       "                     보몽드 순면스퀘어 솔리드 누빔매트커버, 다크블루\\r\\n\\r\\n\n",
       "                         슈에뜨룸 선인장 리플 침구 세트, 베이지\\r\\n\\r\\n\n",
       "        선우랜드 레인보우 2단 문걸이용 옷걸이 _중형, 화이트, 상세페이지참조\\r\\n\\r\\n\n",
       "                          보드래 헬로우 누빔 매트리스커버, 핑크\\r\\n\\r\\n\n",
       "                          보드래 퍼펙트 누빔 매트리스커버, 차콜\\r\\n\\r\\n\n",
       "                         피아블 클래식 방수 매트리스커버, 화이트\\r\\n\\r\\n\n",
       "                  더자리 에코항균 마이크로 매트리스커버, 밀키차콜그레이\\r\\n\\r\\n\n",
       "                   더자리 프레쉬 퓨어 매트리스 커버, 퓨어 차콜그레이\\r\\n\\r\\n\n",
       "                     몽쉐어 알러스킨 항균 매트리스 커버, 카키그레이\\r\\n\\r\\n\n",
       "    쿠팡 브랜드 - 코멧 홈 40수 트윌 순면 100% 홑겹 매트리스커버, 그레이\\r\\n\\r\\n\n",
       "                 패브릭아트 항균 마이크로 원단 매트리스 커버, 아이보리\\r\\n\\r\\n\n",
       "                         바숨 순면 누빔 침대 매트리스커버, 차콜\\r\\n\\r\\n\n",
       "                        WEMAX 다용도 문옷걸이, 화이트, 1개\\r\\n\\r\\n\n",
       "              타카타카 프리미엄 나노 화이바 누빔 매트리스 커버, 젠틀핑핑\\r\\n\\r\\n\n",
       "                        보몽드 순면스퀘어 누빔매트커버, 다크그레이\\r\\n\\r\\n\n",
       "상품명              보드래 국내산 순면 60수 누빔 매트리스커버, 그레이\\r\\n\\r\\n "
      ]
     },
     "execution_count": 119,
     "metadata": {},
     "output_type": "execute_result"
    }
   ],
   "source": [
    "df = pd.read_csv('침구류.csv',encoding='cp949', names = ['상품명'])\n",
    "df.T"
   ]
  },
  {
   "cell_type": "code",
   "execution_count": null,
   "metadata": {},
   "outputs": [],
   "source": []
  },
  {
   "cell_type": "code",
   "execution_count": 28,
   "metadata": {},
   "outputs": [],
   "source": [
    "#파일로 쓰기\n"
   ]
  },
  {
   "cell_type": "code",
   "execution_count": 30,
   "metadata": {},
   "outputs": [],
   "source": [
    "#한줄씩 뒤에 이어서 파일에 저장\n"
   ]
  },
  {
   "cell_type": "code",
   "execution_count": 31,
   "metadata": {},
   "outputs": [],
   "source": [
    "#다음 영화 포스터 저장하기\n",
    "res = requests.get(\"https://search.daum.net/search?w=tot&q=2021%EB%85%84%EC%98%81%ED%99%94%EC%88%9C%EC%9C%84&DA=MOR&rtmaxcoll=MOR\")\n"
   ]
  },
  {
   "cell_type": "code",
   "execution_count": 32,
   "metadata": {},
   "outputs": [],
   "source": [
    "# 2021년 상위 5개만 따로 받기\n",
    "res = requests.get(\"https://search.daum.net/search?w=tot&q=2021%EB%85%84%EC%98%81%ED%99%94%EC%88%9C%EC%9C%84&DA=MOR&rtmaxcoll=MOR\")\n"
   ]
  },
  {
   "cell_type": "code",
   "execution_count": 33,
   "metadata": {},
   "outputs": [],
   "source": [
    "# 2017년~ 21년 상위 5개씩 영화받기\n",
    "\n"
   ]
  },
  {
   "cell_type": "code",
   "execution_count": 34,
   "metadata": {},
   "outputs": [],
   "source": [
    "#2017년~2022년 영화순위 포스터 가져오기/저장\n",
    "import requests\n",
    "from bs4 import BeautifulSoup\n",
    "import re\n",
    "\n",
    "headers = {\"User-Agent\": \"Mozilla/5.0 (Windows NT 10.0; Win64; x64) AppleWebKit/537.36 (KHTML, like Gecko) Chrome/103.0.0.0 Safari/537.36\"}\n",
    "\n",
    "\n"
   ]
  },
  {
   "cell_type": "code",
   "execution_count": 35,
   "metadata": {},
   "outputs": [],
   "source": [
    "#다나와 노트북 검색\n",
    "import requests\n",
    "from bs4 import BeautifulSoup\n",
    "import csv\n",
    "import re\n",
    "\n"
   ]
  },
  {
   "cell_type": "code",
   "execution_count": 36,
   "metadata": {},
   "outputs": [],
   "source": [
    "#다나와 노트북 검색\n",
    "import requests\n",
    "from bs4 import BeautifulSoup\n",
    "import csv\n",
    "import re\n",
    "\n",
    "headers = {\"User-Agent\": \"Mozilla/5.0 (Windows NT 10.0; Win64; x64) AppleWebKit/537.36 (KHTML, like Gecko) Chrome/103.0.0.0 Safari/537.36\"}\n"
   ]
  },
  {
   "cell_type": "code",
   "execution_count": 39,
   "metadata": {},
   "outputs": [],
   "source": [
    "#네이버 시가총액 상위 200위종목 가져오기\n",
    "import requests\n",
    "from bs4 import BeautifulSoup\n",
    "import csv\n",
    "headers = {\"User-Agent\": \"Mozilla/5.0 (Windows NT 10.0; Win64; x64) AppleWebKit/537.36 (KHTML, like Gecko) Chrome/103.0.0.0 Safari/537.36\"}\n",
    "url = \"https://finance.naver.com/sise/sise_market_sum.nhn?sosok=0&page=\"\n",
    "\n",
    "\n"
   ]
  },
  {
   "cell_type": "code",
   "execution_count": 40,
   "metadata": {},
   "outputs": [],
   "source": [
    "#파일에 쓰기\n",
    "import requests\n",
    "from bs4 import BeautifulSoup\n",
    "import csv\n",
    "headers = {\"User-Agent\": \"Mozilla/5.0 (Windows NT 10.0; Win64; x64) AppleWebKit/537.36 (KHTML, like Gecko) Chrome/103.0.0.0 Safari/537.36\"}\n",
    "url = \"https://finance.naver.com/sise/sise_market_sum.nhn?sosok=0&page=\"\n",
    "\n"
   ]
  },
  {
   "cell_type": "code",
   "execution_count": 41,
   "metadata": {},
   "outputs": [],
   "source": [
    "# title생성\n",
    "import requests\n",
    "from bs4 import BeautifulSoup\n",
    "import csv\n",
    "headers = {\"User-Agent\": \"Mozilla/5.0 (Windows NT 10.0; Win64; x64) AppleWebKit/537.36 (KHTML, like Gecko) Chrome/103.0.0.0 Safari/537.36\"}\n",
    "url = \"https://finance.naver.com/sise/sise_market_sum.nhn?sosok=0&page=\"\n",
    "\n"
   ]
  },
  {
   "cell_type": "code",
   "execution_count": 42,
   "metadata": {},
   "outputs": [],
   "source": [
    "#csv파일로 저장\n",
    "\n",
    "headers = {\"User-Agent\": \"Mozilla/5.0 (Windows NT 10.0; Win64; x64) AppleWebKit/537.36 (KHTML, like Gecko) Chrome/103.0.0.0 Safari/537.36\"}\n",
    "url = \"https://finance.naver.com/sise/sise_market_sum.nhn?sosok=0&page=\"\n",
    "\n",
    "\n"
   ]
  },
  {
   "cell_type": "code",
   "execution_count": 131,
   "metadata": {},
   "outputs": [],
   "source": [
    "#다나와 노트북 검색\n",
    "import requests\n",
    "from bs4 import BeautifulSoup\n",
    "import csv\n",
    "import re\n",
    "\n",
    "headers = {\"User-Agent\": \"Mozilla/5.0 (Windows NT 10.0; Win64; x64) AppleWebKit/537.36 (KHTML, like Gecko) Chrome/103.0.0.0 Safari/537.36\"}\n",
    "for i in range(1,2):\n",
    "    url = \"http://search.danawa.com/dsearch.php?query=%EB%85%B8%ED%8A%B8%EB%B6%81&originalQuery=\\\n",
    "    %EB%85%B8%ED%8A%B8%EB%B6%81&volumeType=allvs&page={}&limit=40&sort=saveDESC&list=list&boost=\\\n",
    "    true&addDelivery=N&recommendedSort=Y&defaultUICategoryCode=112758&defaultPhysicsCategoryCode=\\\n",
    "    860%7C869%7C10586%7C0&defaultVmTab=85216&defaultVaTab=7172821&tab=goods\".format(i)\n"
   ]
  },
  {
   "cell_type": "code",
   "execution_count": 43,
   "metadata": {},
   "outputs": [],
   "source": [
    "import requests\n",
    "from bs4 import BeautifulSoup\n",
    "import re\n",
    "\n",
    "headers = {\"User-Agent\": \"Mozilla/5.0 (Windows NT 10.0; Win64; x64) AppleWebKit/537.36 (KHTML, like Gecko) Chrome/103.0.0.0 Safari/537.36\"}\n",
    "\n",
    "\n"
   ]
  },
  {
   "cell_type": "code",
   "execution_count": null,
   "metadata": {},
   "outputs": [],
   "source": []
  },
  {
   "cell_type": "code",
   "execution_count": null,
   "metadata": {},
   "outputs": [],
   "source": []
  },
  {
   "cell_type": "code",
   "execution_count": null,
   "metadata": {},
   "outputs": [],
   "source": []
  },
  {
   "cell_type": "code",
   "execution_count": 48,
   "metadata": {},
   "outputs": [
    {
     "name": "stdout",
     "output_type": "stream",
     "text": [
      "m.group(): care\n",
      "m.string(): careless\n",
      "m.start(): 0\n",
      "m.end(): 4\n",
      "m.span(): (0, 4)\n",
      "care\n",
      "m.group(): care\n",
      "m.string(): good care\n",
      "m.start(): 5\n",
      "m.end(): 9\n",
      "m.span(): (5, 9)\n",
      "['care', 'cafe']\n"
     ]
    }
   ],
   "source": [
    "import re\n",
    "# abcd, book, desk\n",
    "# ca?e  <-- care, cafe, case,cake, cave\n",
    "\n",
    "p = re.compile(\"ca.e\") \n",
    "# .(ca.e) : 하나의 문자를 의미 > care,cafe,case (o) | coffe (x)\n",
    "# ^ (^de) : 문자열의 시작 > dese, destination (o) | fade (x)\n",
    "# $ (se$) : 문자열의 끝 > case, base, propose (o) | face (x)\n",
    "def print_match(m):\n",
    "    if m:\n",
    "        print(\"m.group():\", m.group()) # 일치하는 문자열 반환\n",
    "        print(\"m.string():\", m.string) # 입력받은 문자열\n",
    "        print(\"m.start():\", m.start()) # 일치하는 문자열의 시작 index\n",
    "        print(\"m.end():\", m.end()) # 일치하는 문자열의 끝index\n",
    "        print(\"m.span():\", m.span()) # 일치하는 문자열의 시작과 끝 index\n",
    "    else:\n",
    "        print(\"매칭되지 않음\")\n",
    "m = p.match(\"careless\") #care 출력 , match: 주어진 문자열이 처음부터 일치하는지 확인\n",
    "print_match(m)\n",
    "print(m.group())\n",
    "m = p.search(\"good care\") # 주어진 문자열중 일치하는게 있는지 확인\n",
    "print_match(m)\n",
    "\n",
    "lst= p.findall((\"good care cafe\")) #findall: 일치하는 모든것을 리스트 형태로 반환\n",
    "print(lst)\n",
    "\n",
    "# 1. re.compile(\"원하는 형태\")\n",
    "# 2. m = p.mathc(\"비교할 문자열\") : 주어진 문자열이 처음부터 일치하는지 확인\n",
    "# 3. m = p.serch(\"비교할 문자열\") : 주어진 문자열중 일치하는게 있는지 확인 \n",
    "# 4. lst = p.findall(\"비교할 문자열\") : 일치하는 모든 것을 \"리스트\" 형태로 반환"
   ]
  }
 ],
 "metadata": {
  "colab": {
   "collapsed_sections": [],
   "include_colab_link": true,
   "name": "웹 크롤링",
   "provenance": []
  },
  "kernelspec": {
   "display_name": "Python 3 (ipykernel)",
   "language": "python",
   "name": "python3"
  },
  "language_info": {
   "codemirror_mode": {
    "name": "ipython",
    "version": 3
   },
   "file_extension": ".py",
   "mimetype": "text/x-python",
   "name": "python",
   "nbconvert_exporter": "python",
   "pygments_lexer": "ipython3",
   "version": "3.10.9"
  }
 },
 "nbformat": 4,
 "nbformat_minor": 4
}
