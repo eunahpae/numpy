{
 "cells": [
  {
   "cell_type": "markdown",
   "id": "08efad94",
   "metadata": {},
   "source": [
    "# 자료의 종류\n",
    "</br>\n",
    "\n",
    "<img src=\"../../자료의종류.png\" width=\"600\" height=\"800\">\n",
    "\n",
    "</br>\n",
    "</br>\n",
    "\n",
    "</br>\n",
    "</br>\n",
    "\n",
    "<img src=\"../../자료의종류예.png\" width=\"500\" height=\"500\">\n",
    "\n",
    "</br>\n",
    "</br>\n",
    "</br>\n",
    "\n",
    "<img src=\"../../타입별시각화.png\" width=\"500\" height=\"500\">\n",
    "\n",
    "</br>\n",
    "</br>  \n",
    "<br/>\n",
    "   \n",
    "\n",
    "\n",
    "# 데이터 타입에 따른 시각화 유형\n",
    "\n",
    "## 주요 시각화 방법\n",
    "\n",
    "### 시간시각화\n",
    ">이산형(막대그래프, 누적막대그래프, 점그래프)\n",
    "\n",
    ">연속형(꺽은선그래프, 계단그래프, 추세선)\n",
    "\n",
    "\n",
    "### 분포시각화\n",
    ">파이차트, 도우넛차트, 트리맵, 누적연속그래프\n",
    "\n",
    "### 관계시각화\n",
    ">스캐터플롯, 버블차트, 히스토그램\n",
    "\n",
    "### 비교시각화\n",
    ">히트맵, 스타차트, 평행 좌표계, 다차원 척도법\n",
    "\n",
    "### 공간시각화\n",
    ">지도매핑\n",
    "\n",
    "\n",
    "### 그래프 종류 5가지:\n",
    "#### * 구성요소 비교유형(예. 파이차트)\n",
    "#### *항목 비교유형(예. 막대그래프,워드클라우드,레이더챠트)\n",
    "#### *시간적 추이 비교유형(예.선챠트, 면적챠트)\n",
    "#### *도수분포 비교유형(예.히스토그램)\n",
    "#### *상관관계 비교유형(예.스케터, 버블챠트)\n",
    "#### * 그외(지도\\맵챠트)\n",
    "\n"
   ]
  },
  {
   "cell_type": "code",
   "execution_count": null,
   "id": "8d68e04b",
   "metadata": {},
   "outputs": [],
   "source": []
  }
 ],
 "metadata": {
  "kernelspec": {
   "display_name": "Python 3 (ipykernel)",
   "language": "python",
   "name": "python3"
  },
  "language_info": {
   "codemirror_mode": {
    "name": "ipython",
    "version": 3
   },
   "file_extension": ".py",
   "mimetype": "text/x-python",
   "name": "python",
   "nbconvert_exporter": "python",
   "pygments_lexer": "ipython3",
   "version": "3.10.9"
  }
 },
 "nbformat": 4,
 "nbformat_minor": 5
}
