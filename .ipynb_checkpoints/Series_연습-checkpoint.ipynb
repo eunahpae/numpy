{
 "cells": [
  {
   "cell_type": "markdown",
   "id": "1ede40b5",
   "metadata": {},
   "source": [
    "## 딕셔너리로 만들기"
   ]
  },
  {
   "cell_type": "code",
   "execution_count": 7,
   "id": "8e9c2363",
   "metadata": {},
   "outputs": [
    {
     "data": {
      "text/plain": [
       "a    1\n",
       "b    2\n",
       "c    3\n",
       "dtype: int64"
      ]
     },
     "execution_count": 7,
     "metadata": {},
     "output_type": "execute_result"
    }
   ],
   "source": [
    "import pandas as pd\n",
    "dict = {'a':1,'b':2,'c':3}\n",
    "seri_data = pd.Series(dict)\n",
    "seri_data"
   ]
  },
  {
   "cell_type": "code",
   "execution_count": 12,
   "id": "e8c894ca",
   "metadata": {},
   "outputs": [
    {
     "name": "stdout",
     "output_type": "stream",
     "text": [
      "Index(['a', 'b', 'c'], dtype='object')\n",
      "[1 2 3] \n",
      "\n",
      "<class 'pandas.core.series.Series'>\n",
      "Index: 3 entries, a to c\n",
      "Series name: None\n",
      "Non-Null Count  Dtype\n",
      "--------------  -----\n",
      "3 non-null      int64\n",
      "dtypes: int64(1)\n",
      "memory usage: 156.0+ bytes\n",
      "None\n"
     ]
    }
   ],
   "source": [
    "print(seri_data.index)\n",
    "print(seri_data.values,'\\n')\n",
    "print(seri_data.info())"
   ]
  },
  {
   "cell_type": "markdown",
   "id": "68dbef91",
   "metadata": {},
   "source": [
    "## 리스트로 만들기"
   ]
  },
  {
   "cell_type": "code",
   "execution_count": 15,
   "id": "b5e7117d",
   "metadata": {
    "scrolled": true
   },
   "outputs": [
    {
     "name": "stdout",
     "output_type": "stream",
     "text": [
      "0    2023-01-01\n",
      "1          3.14\n",
      "2           ABC\n",
      "3           100\n",
      "4          True\n",
      "dtype: object \n",
      "\n",
      "<class 'pandas.core.series.Series'>\n",
      "RangeIndex: 5 entries, 0 to 4\n",
      "Series name: None\n",
      "Non-Null Count  Dtype \n",
      "--------------  ----- \n",
      "5 non-null      object\n",
      "dtypes: object(1)\n",
      "memory usage: 168.0+ bytes\n",
      "None\n"
     ]
    }
   ],
   "source": [
    "list = ['2023-01-01', 3.14, 'ABC', 100, True]\n",
    "seri_data = pd.Series(list)\n",
    "print(seri_data,'\\n')\n",
    "print(seri_data.info())"
   ]
  },
  {
   "cell_type": "markdown",
   "id": "6ec4b4b5",
   "metadata": {},
   "source": [
    "### 튜플로 만들기"
   ]
  },
  {
   "cell_type": "code",
   "execution_count": 19,
   "id": "12f5d5d2",
   "metadata": {},
   "outputs": [
    {
     "name": "stdout",
     "output_type": "stream",
     "text": [
      "0            감찬\n",
      "1    2023-10-01\n",
      "2             남\n",
      "3          True\n",
      "dtype: object\n"
     ]
    }
   ],
   "source": [
    "tup = ('감찬','2023-10-01','남',True)\n",
    "seri_data = pd.Series(tup, index = ['이름','생년월일','성별','학생여부'])\n",
    "print(seri_data)"
   ]
  },
  {
   "cell_type": "code",
   "execution_count": 20,
   "id": "6e13e05b",
   "metadata": {},
   "outputs": [
    {
     "name": "stdout",
     "output_type": "stream",
     "text": [
      "1    2023-10-01\n",
      "2             남\n",
      "dtype: object\n"
     ]
    }
   ],
   "source": [
    "#원소 선택 인덱싱\n",
    "print(seri_data[[1,2]])"
   ]
  },
  {
   "cell_type": "code",
   "execution_count": 3,
   "id": "3fe8e974",
   "metadata": {},
   "outputs": [],
   "source": [
    "#인덱스 이름으로 사용하면 범위 끝이 포함됨\n"
   ]
  }
 ],
 "metadata": {
  "kernelspec": {
   "display_name": "Python 3 (ipykernel)",
   "language": "python",
   "name": "python3"
  },
  "language_info": {
   "codemirror_mode": {
    "name": "ipython",
    "version": 3
   },
   "file_extension": ".py",
   "mimetype": "text/x-python",
   "name": "python",
   "nbconvert_exporter": "python",
   "pygments_lexer": "ipython3",
   "version": "3.10.9"
  }
 },
 "nbformat": 4,
 "nbformat_minor": 5
}
