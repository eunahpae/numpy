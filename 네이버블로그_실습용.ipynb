{
 "cells": [
  {
   "cell_type": "code",
   "execution_count": 1,
   "metadata": {},
   "outputs": [
    {
     "name": "stdout",
     "output_type": "stream",
     "text": [
      "('64bit', 'WindowsPE')\n"
     ]
    }
   ],
   "source": [
    "import platform\n",
    "print(platform.architecture())\n"
   ]
  },
  {
   "cell_type": "code",
   "execution_count": 2,
   "metadata": {},
   "outputs": [
    {
     "name": "stdout",
     "output_type": "stream",
     "text": [
      "Python 3.10.9\n"
     ]
    }
   ],
   "source": [
    "!python --version"
   ]
  },
  {
   "cell_type": "code",
   "execution_count": 3,
   "metadata": {},
   "outputs": [
    {
     "name": "stdout",
     "output_type": "stream",
     "text": [
      "Requirement already satisfied: selenium in c:\\users\\eungok\\appdata\\local\\programs\\python\\python310\\lib\\site-packages (4.11.2)\n",
      "Requirement already satisfied: urllib3[socks]<3,>=1.26 in c:\\users\\eungok\\appdata\\local\\programs\\python\\python310\\lib\\site-packages (from selenium) (2.0.4)\n",
      "Requirement already satisfied: trio~=0.17 in c:\\users\\eungok\\appdata\\local\\programs\\python\\python310\\lib\\site-packages (from selenium) (0.22.2)\n",
      "Requirement already satisfied: trio-websocket~=0.9 in c:\\users\\eungok\\appdata\\local\\programs\\python\\python310\\lib\\site-packages (from selenium) (0.10.3)\n",
      "Requirement already satisfied: certifi>=2021.10.8 in c:\\users\\eungok\\appdata\\local\\programs\\python\\python310\\lib\\site-packages (from selenium) (2023.7.22)\n",
      "Requirement already satisfied: attrs>=20.1.0 in c:\\users\\eungok\\appdata\\local\\programs\\python\\python310\\lib\\site-packages (from trio~=0.17->selenium) (23.1.0)\n",
      "Requirement already satisfied: sortedcontainers in c:\\users\\eungok\\appdata\\local\\programs\\python\\python310\\lib\\site-packages (from trio~=0.17->selenium) (2.4.0)\n",
      "Requirement already satisfied: idna in c:\\users\\eungok\\appdata\\local\\programs\\python\\python310\\lib\\site-packages (from trio~=0.17->selenium) (3.4)\n",
      "Requirement already satisfied: outcome in c:\\users\\eungok\\appdata\\local\\programs\\python\\python310\\lib\\site-packages (from trio~=0.17->selenium) (1.2.0)\n",
      "Requirement already satisfied: sniffio in c:\\users\\eungok\\appdata\\local\\programs\\python\\python310\\lib\\site-packages (from trio~=0.17->selenium) (1.3.0)\n",
      "Requirement already satisfied: cffi>=1.14 in c:\\users\\eungok\\appdata\\local\\programs\\python\\python310\\lib\\site-packages (from trio~=0.17->selenium) (1.15.1)\n",
      "Requirement already satisfied: exceptiongroup>=1.0.0rc9 in c:\\users\\eungok\\appdata\\local\\programs\\python\\python310\\lib\\site-packages (from trio~=0.17->selenium) (1.1.2)\n",
      "Requirement already satisfied: wsproto>=0.14 in c:\\users\\eungok\\appdata\\local\\programs\\python\\python310\\lib\\site-packages (from trio-websocket~=0.9->selenium) (1.2.0)\n",
      "Requirement already satisfied: pysocks!=1.5.7,<2.0,>=1.5.6 in c:\\users\\eungok\\appdata\\local\\programs\\python\\python310\\lib\\site-packages (from urllib3[socks]<3,>=1.26->selenium) (1.7.1)\n",
      "Requirement already satisfied: pycparser in c:\\users\\eungok\\appdata\\local\\programs\\python\\python310\\lib\\site-packages (from cffi>=1.14->trio~=0.17->selenium) (2.21)\n",
      "Requirement already satisfied: h11<1,>=0.9.0 in c:\\users\\eungok\\appdata\\local\\programs\\python\\python310\\lib\\site-packages (from wsproto>=0.14->trio-websocket~=0.9->selenium) (0.14.0)\n"
     ]
    }
   ],
   "source": [
    "!pip install selenium"
   ]
  },
  {
   "cell_type": "code",
   "execution_count": 2,
   "metadata": {},
   "outputs": [
    {
     "name": "stdout",
     "output_type": "stream",
     "text": [
      "Requirement already satisfied: tqdm in c:\\users\\eungok\\appdata\\local\\programs\\python\\python310\\lib\\site-packages (4.66.1)\n",
      "Requirement already satisfied: colorama in c:\\users\\eungok\\appdata\\local\\programs\\python\\python310\\lib\\site-packages (from tqdm) (0.4.6)\n"
     ]
    }
   ],
   "source": [
    "# 네이버에서 검색어 입력받아 검색 한 후 블로그 메뉴를 선택하고\n",
    "# 오른쪽에 있는 검색옵션 버튼을 눌러서\n",
    "# 정렬 방식과 기간을 입력하기\n",
    "\n",
    "#Step 0. 필요한 모듈과 라이브러리를 로딩합니다.\n",
    "!pip install tqdm\n",
    "import sys\n",
    "import os\n",
    "import pandas as pd\n",
    "import numpy as np\n",
    "\n",
    "from bs4 import BeautifulSoup\n",
    "import requests\n",
    "from selenium import webdriver\n",
    "import time\n",
    "import tqdm\n",
    "from tqdm.notebook import tqdm"
   ]
  },
  {
   "cell_type": "code",
   "execution_count": 2,
   "metadata": {},
   "outputs": [
    {
     "name": "stdin",
     "output_type": "stream",
     "text": [
      "1.크롤링할 키워드는 무엇입니까?:  노원역 맛집\n",
      "4.조회를 시작할 날짜를 입력하세요(예:20200101) : 20230101\n",
      "5.조회를 종료할 날짜를 입력하세요(예:20211231):  20230630\n"
     ]
    }
   ],
   "source": [
    "query_txt = input('1.크롤링할 키워드는 무엇입니까?: ')\n",
    "# query_txt2 = input('2.제외할 첫번째 키워드를 입력하세요: ')\n",
    "# query_txt3 = input('3.제외할 두번째 키워드를 입력하세요: ')\n",
    "\n",
    "start_date = input('4.조회를 시작할 날짜를 입력하세요(예:20200101) :')\n",
    "end_date = input('5.조회를 종료할 날짜를 입력하세요(예:20211231): ')"
   ]
  },
  {
   "cell_type": "code",
   "execution_count": 17,
   "metadata": {},
   "outputs": [],
   "source": [
    "# 검색어, 시작일, 종료일\n",
    "query_txt = '노원역 맛집'\n",
    "start_date = '20230101'\n",
    "end_date = '20230630'"
   ]
  },
  {
   "cell_type": "markdown",
   "metadata": {},
   "source": [
    "# 크롤링할 블로그 url 수집하기"
   ]
  },
  {
   "cell_type": "code",
   "execution_count": null,
   "metadata": {},
   "outputs": [],
   "source": []
  },
  {
   "cell_type": "code",
   "execution_count": 53,
   "metadata": {
    "code_folding": []
   },
   "outputs": [],
   "source": [
    "\n",
    "\n",
    "#Step 1. 크롬 웹브라우저 실행\n",
    "# path = \"./chromedriver-win64/chromedriver.exe\"   # 윈도우는 \"chromedriver.exe\"\n",
    "\n",
    "driver = webdriver.Chrome()\n",
    "\n",
    "# 사이트 주소는 네이버\n",
    "driver.get('http://www.naver.com')\n",
    "time.sleep(2)\n",
    "#Step 2. 네이버 검색창에 \"검색어\" 검색\n",
    "element = driver.find_element('id','query')\n",
    "element.send_keys(query_txt)\n",
    "element.submit()\n",
    "time.sleep(1)\n",
    "# 'VIEW' 클릭xpath\n",
    "driver.find_element(\"xpath\", \"\"\"//*[@id=\"lnb\"]/div[1]/div/ul/li[2]/a\"\"\").click()\n",
    "time.sleep(1)\n",
    "# # '블로그' 클릭\n",
    "driver.find_element('xpath','//*[@id=\"snb\"]/div[1]/div/div[1]/a[2]').click()\n",
    "\n",
    "# # '검색옵션' 클릭\n",
    "\n",
    "\n",
    "# Step 3. 정렬 : \"관련도순\" \n",
    "# 개발자 도구에서 정렬 버튼의 id 가 보이지 않습니다.\n",
    "# 이럴 경우 쉽게 사용할 수 있는 방법이 바로 xpath 를 이용하는 방법입니다.\n",
    "# xpath는 개발자 도구에서 해당 메뉴 부분을 마우스 오른쪽 버튼을 누르고 \n",
    "# copy -> copy xpath 를 선택하면 됩니다\n",
    "\n",
    "\n",
    "# Step 4. 날짜 입력\n",
    "\n",
    "\n"
   ]
  },
  {
   "cell_type": "code",
   "execution_count": 54,
   "metadata": {},
   "outputs": [],
   "source": [
    "#스크롤 다운\n",
    "driver.execute_script('window.scrollTo(0,500)')\n",
    "time.sleep(1)\n",
    "def scroll_down(driver):\n",
    "    driver.execute_script('window.scrollTo(0,999999999)')\n",
    "    time.sleep(1)\n",
    "n = 10\n",
    "i = 0\n",
    "while i < n:\n",
    "    scroll_down(driver)\n",
    "    i += 1\n"
   ]
  },
  {
   "cell_type": "code",
   "execution_count": 55,
   "metadata": {},
   "outputs": [
    {
     "name": "stdout",
     "output_type": "stream",
     "text": [
      "노원역 맛집 호야짬뽕1650 짱맛\n",
      "노원 오마카세 오사이초밥 디너타임 가성비 좋은 노원역 맛집\n",
      "노원역 맛집 제임스키친 랍스터파스타 마르곤졸라 후기\n",
      "노원역맛집 오봉집 노원점 오봉스페셜로 점심 먹기...\n",
      "노원역 맛집 찹쌀탕수육 불맛짬뽕 괜찮은 설화\n",
      "노원역 맛집 치즈쪽갈비와 메밀전이 예술인 동선식당\n",
      "노원역 맛집 - 무지개맥주\n",
      "노원역 맛집 호야짬뽕1650 인정\n",
      "[서울-노원] 오봉집 노원점 노원역맛집으로 뜨고있는 점심맛집 !\n",
      "[서울] 노원역 맛집 '어글리스토브' 브런치 모임하기 좋은 곳\n",
      "노원역 맛집, 뢰스티가 맛있는 어글리스토브\n",
      "노원역맛집 호야짬뽕1650 노원점. 불맛 가득한 중식~\n",
      "노원역 맛집 동선식당 노원점 l 중독성 짙은 돼지갈비찜\n",
      "노원역맛집 신화쭈꾸미 매콤한 쭈삼 철판볶음\n",
      "노원역 맛집 : 어글리스토브(파스타 맛집으로 이미 알려진 곳)\n",
      "노원역맛집, 신화쭈꾸미 노원점\n",
      "노원역 맛집 # 불향가듣 짬뽕... 설화! 품격있는 중화요리맛집\n",
      "[노원역 맛집] 쪽갈비대통령 노원점, 외식장소로 강력 추천!\n",
      "[노원역 맛집] 동래정 노원점에서 정가브리살 통삼겹을 백탄...\n",
      "노원역 맛집 - 먹다.반해\n",
      "노원역 맛집 브런치로 좋은 제임스키친\n",
      "[서울-노원] 노원역 맛집 매운카레전문점 아비꼬 커리 : 밥,카레...\n",
      "[노원역 맛집] 어글리스토브 노원역점\n",
      "노원역맛집 가성비 좋은 모임장소로 딱! 오봉집 노원점\n",
      "노원역 맛집 청기와타운 노원역점. 가심비 소고기 맛집~\n",
      "노원역맛집 동래정 노원점 가브리살 진짜 맛있네!\n",
      "노원역 맛집 가성비 맛에 진심 호야짬뽕1650 중국집\n",
      "노원역 맛집 제임스키친 분위기 좋은 노원 레스토랑\n",
      "[서울/노원] 노원역 맛집 치킨주는 고깃집, 고기싸롱 노원역점\n",
      "노원역 맛집 세광양대창 노원점 곱창 데이트 추천해요\n",
      "\n",
      "url갯수:  30\n",
      "title갯수:  30\n"
     ]
    }
   ],
   "source": [
    "# URL 크롤링 시작\n",
    "url_list = []\n",
    "title_list = []\n",
    "# URL 크롤링 시작\n",
    "#articles = \"api_txt_lines.total_tit\"\n",
    "# article_raw = driver.find_elements(\"class\",articles)\n",
    "for i in range(1,31):\n",
    "    article_raw = driver.find_elements(\"xpath\",\"\"\"//*[@id=\"sp_blog_{}\"]/div/div/a\"\"\".format(i))\n",
    "    # # url 크롤링 시작\n",
    "    for article in article_raw:\n",
    "        url = article.get_attribute('href')\n",
    "        url_list.append(url)\n",
    "    time.sleep(1)\n",
    "    # 제목 크롤링 시작\n",
    "    for article in article_raw:\n",
    "        title = article.text\n",
    "        title_list.append(title)\n",
    "        print(title)\n",
    "print(\"\")\n",
    "print('url갯수: ', len(url_list))\n",
    "print('title갯수: ', len(title_list))"
   ]
  },
  {
   "cell_type": "code",
   "execution_count": 19,
   "metadata": {},
   "outputs": [],
   "source": [
    "# 저장하기\n"
   ]
  },
  {
   "cell_type": "markdown",
   "metadata": {},
   "source": [
    "# 블로그 내용 크롤링하기"
   ]
  },
  {
   "cell_type": "code",
   "execution_count": 17,
   "metadata": {},
   "outputs": [],
   "source": [
    "import sys\n",
    "import os\n",
    "import pandas as pd\n",
    "import numpy as np"
   ]
  },
  {
   "cell_type": "code",
   "execution_count": 5,
   "metadata": {},
   "outputs": [],
   "source": [
    "# \"url_list.csv\" 불러오기\n",
    "\n",
    "\n"
   ]
  },
  {
   "cell_type": "code",
   "execution_count": 25,
   "metadata": {},
   "outputs": [],
   "source": [
    "# 판다스로 만들기\n",
    "import pandas as pd\n",
    "\n",
    "\n",
    "# 저장하기\n"
   ]
  },
  {
   "cell_type": "code",
   "execution_count": 26,
   "metadata": {},
   "outputs": [
    {
     "name": "stderr",
     "output_type": "stream",
     "text": [
      "C:\\Users\\User\\AppData\\Local\\Temp\\ipykernel_14228\\315739796.py:5: DeprecationWarning: executable_path has been deprecated, please pass in a Service object\n",
      "  driver = webdriver.Chrome('./chromedriver-win32/chromedriver')\n"
     ]
    }
   ],
   "source": [
    "import selenium\n",
    "from selenium import webdriver\n",
    "from selenium.webdriver.common.keys import Keys\n",
    "\n",
    "driver = webdriver.Chrome('./chromedriver-win32/chromedriver')"
   ]
  },
  {
   "cell_type": "code",
   "execution_count": 7,
   "metadata": {},
   "outputs": [],
   "source": [
    "import os\n",
    "#os.getcwd()"
   ]
  }
 ],
 "metadata": {
  "kernelspec": {
   "display_name": "Python 3 (ipykernel)",
   "language": "python",
   "name": "python3"
  },
  "language_info": {
   "codemirror_mode": {
    "name": "ipython",
    "version": 3
   },
   "file_extension": ".py",
   "mimetype": "text/x-python",
   "name": "python",
   "nbconvert_exporter": "python",
   "pygments_lexer": "ipython3",
   "version": "3.10.9"
  },
  "toc": {
   "base_numbering": 1,
   "nav_menu": {},
   "number_sections": false,
   "sideBar": true,
   "skip_h1_title": false,
   "title_cell": "Table of Contents",
   "title_sidebar": "Contents",
   "toc_cell": false,
   "toc_position": {},
   "toc_section_display": true,
   "toc_window_display": false
  },
  "varInspector": {
   "cols": {
    "lenName": 16,
    "lenType": 16,
    "lenVar": 40
   },
   "kernels_config": {
    "python": {
     "delete_cmd_postfix": "",
     "delete_cmd_prefix": "del ",
     "library": "var_list.py",
     "varRefreshCmd": "print(var_dic_list())"
    },
    "r": {
     "delete_cmd_postfix": ") ",
     "delete_cmd_prefix": "rm(",
     "library": "var_list.r",
     "varRefreshCmd": "cat(var_dic_list()) "
    }
   },
   "position": {
    "height": "600px",
    "left": "554.76px",
    "right": "20px",
    "top": "88px",
    "width": "424px"
   },
   "types_to_exclude": [
    "module",
    "function",
    "builtin_function_or_method",
    "instance",
    "_Feature"
   ],
   "window_display": false
  }
 },
 "nbformat": 4,
 "nbformat_minor": 4
}
