{
 "cells": [
  {
   "cell_type": "markdown",
   "id": "a8e5ad7e",
   "metadata": {},
   "source": [
    "# Pandas\n",
    "파이썬에서 사용하는 데이터 분석 라이브러리"
   ]
  },
  {
   "cell_type": "markdown",
   "id": "86f44b47",
   "metadata": {},
   "source": [
    "# 왜 팬더스를 쓰나요?\n",
    "\n",
    "엑셀과 상당히 유사합니다, 데이터의 수정/가공 및 분석이 용이합니다.    \n",
    "데이터 가공을 위한 수많은 함수를 지원합니다.  \n",
    "Numpy 기반으로 데이터 처리가 상당히 빠릅니다.  "
   ]
  },
  {
   "cell_type": "code",
   "execution_count": 4,
   "id": "8caeb570",
   "metadata": {},
   "outputs": [],
   "source": [
    "# !pip install pandas\n",
    "import pandas as pd"
   ]
  },
  {
   "cell_type": "markdown",
   "id": "fb17c79f",
   "metadata": {},
   "source": [
    "# 1. Series\n",
    "1차원 데이터 (정수, 실수, 문자열 등)\n",
    "* 시리즈는 인덱스와 값으로 구성됩니다."
   ]
  },
  {
   "cell_type": "markdown",
   "id": "81d92896",
   "metadata": {},
   "source": [
    "## Series 객체 생성\n"
   ]
  },
  {
   "cell_type": "code",
   "execution_count": 13,
   "id": "1d071f17",
   "metadata": {},
   "outputs": [
    {
     "name": "stdout",
     "output_type": "stream",
     "text": [
      "0   -20\n",
      "1   -10\n",
      "2    10\n",
      "3    20\n",
      "dtype: int64\n"
     ]
    },
    {
     "data": {
      "text/plain": [
       "pandas.core.series.Series"
      ]
     },
     "execution_count": 13,
     "metadata": {},
     "output_type": "execute_result"
    }
   ],
   "source": [
    "#예) 1월부터 4월까지 평균 온도 데이터 (-20, -10, 10, 20)\n",
    "lst = [-20,-10,10,20]\n",
    "temp = pd.Series(lst)\n",
    "print(temp)\n",
    "type(temp)"
   ]
  },
  {
   "cell_type": "code",
   "execution_count": 7,
   "id": "66f1c6c4",
   "metadata": {},
   "outputs": [
    {
     "data": {
      "text/plain": [
       "-20"
      ]
     },
     "execution_count": 7,
     "metadata": {},
     "output_type": "execute_result"
    }
   ],
   "source": [
    "# 1월 온도\n",
    "temp[0]"
   ]
  },
  {
   "cell_type": "code",
   "execution_count": 14,
   "id": "bae44bc5",
   "metadata": {},
   "outputs": [
    {
     "data": {
      "text/plain": [
       "10"
      ]
     },
     "execution_count": 14,
     "metadata": {},
     "output_type": "execute_result"
    }
   ],
   "source": [
    "# 3월 온도\n",
    "temp[2]"
   ]
  },
  {
   "cell_type": "markdown",
   "id": "7e6cfae9",
   "metadata": {},
   "source": [
    "# Series 객체 생성 (Index 지정)"
   ]
  },
  {
   "cell_type": "code",
   "execution_count": 47,
   "id": "7943d7a6",
   "metadata": {},
   "outputs": [
    {
     "data": {
      "text/plain": [
       "Jan   -20\n",
       "Feb   -10\n",
       "Mar    10\n",
       "Apr    20\n",
       "dtype: int64"
      ]
     },
     "execution_count": 47,
     "metadata": {},
     "output_type": "execute_result"
    }
   ],
   "source": [
    "# 인덱스 지정 index=['Jan', 'Feb', 'Mar', 'Apr']\n",
    "temp = pd.Series([-20,-10,10,20], index=['Jan', 'Feb', 'Mar', 'Apr'])\n",
    "temp"
   ]
  },
  {
   "cell_type": "code",
   "execution_count": 20,
   "id": "1cf7a6b9",
   "metadata": {},
   "outputs": [
    {
     "data": {
      "text/plain": [
       "-20"
      ]
     },
     "execution_count": 20,
     "metadata": {},
     "output_type": "execute_result"
    }
   ],
   "source": [
    "# Index Jan (1월) 에 해당하는 데이터 출력\n",
    "temp['Jan']"
   ]
  },
  {
   "cell_type": "code",
   "execution_count": 21,
   "id": "e387be9a",
   "metadata": {},
   "outputs": [
    {
     "data": {
      "text/plain": [
       "20"
      ]
     },
     "execution_count": 21,
     "metadata": {},
     "output_type": "execute_result"
    }
   ],
   "source": [
    "# Index Apr (4월) 에 해당하는 데이터 출력\n",
    "temp['Apr']"
   ]
  },
  {
   "cell_type": "code",
   "execution_count": 23,
   "id": "887c4816",
   "metadata": {},
   "outputs": [],
   "source": [
    "# 존재하지 않는 Index 접근 시도 시 에러\n",
    "# temp['Jun'] "
   ]
  },
  {
   "cell_type": "code",
   "execution_count": 30,
   "id": "ebf14f6e-e007-44bf-b98d-5e6287bd8e17",
   "metadata": {},
   "outputs": [
    {
     "data": {
      "text/plain": [
       "Jan   -20\n",
       "Apr    20\n",
       "dtype: int64"
      ]
     },
     "execution_count": 30,
     "metadata": {},
     "output_type": "execute_result"
    }
   ],
   "source": [
    "# 두개 이상 인덱싱\n",
    "temp[[0,2]]\n",
    "temp[['Jan','Apr']]"
   ]
  },
  {
   "cell_type": "code",
   "execution_count": 31,
   "id": "fff49d0c",
   "metadata": {},
   "outputs": [
    {
     "name": "stdout",
     "output_type": "stream",
     "text": [
      "a     사과\n",
      "b    바나나\n",
      "c     당근\n",
      "dtype: object\n"
     ]
    },
    {
     "data": {
      "text/plain": [
       "pandas.core.series.Series"
      ]
     },
     "execution_count": 31,
     "metadata": {},
     "output_type": "execute_result"
    }
   ],
   "source": [
    "import pandas as pd \n",
    "# 리스트로 생성\n",
    "array = pd.Series(['사과','바나나','당근'], index = ['a','b','c'])\n",
    "print(array)\n",
    "type(array)"
   ]
  },
  {
   "cell_type": "code",
   "execution_count": 36,
   "id": "98151fef",
   "metadata": {},
   "outputs": [
    {
     "name": "stdout",
     "output_type": "stream",
     "text": [
      "<class 'dict'>\n",
      "a     사과\n",
      "b    바나나\n",
      "c     당근\n",
      "dtype: object\n",
      "사과\n"
     ]
    }
   ],
   "source": [
    "import pandas as pd\n",
    "\n",
    "#딕셔너리로 생성\n",
    "data = {\n",
    "    'a':'사과',\n",
    "    'b':'바나나',\n",
    "    'c':'당근'    \n",
    "}\n",
    "print(type(data))\n",
    "   \n",
    "# Dict 자료형을 Series로 바꾸기\n",
    "seri = pd.Series(data)\n",
    "print(seri)\n",
    "print(seri['a'])"
   ]
  },
  {
   "cell_type": "code",
   "execution_count": 40,
   "id": "325979bf-ab9e-4ab2-9436-fdee84c984f5",
   "metadata": {},
   "outputs": [
    {
     "name": "stdout",
     "output_type": "stream",
     "text": [
      "Index(['a', 'b', 'c'], dtype='object')\n",
      "['사과' '바나나' '당근']\n"
     ]
    }
   ],
   "source": [
    "print(seri.index)\n",
    "print(seri.values)"
   ]
  },
  {
   "cell_type": "code",
   "execution_count": 2,
   "id": "ddb02610",
   "metadata": {},
   "outputs": [],
   "source": [
    "import pandas as pd"
   ]
  },
  {
   "cell_type": "code",
   "execution_count": 55,
   "id": "f3c08613",
   "metadata": {},
   "outputs": [
    {
     "data": {
      "text/plain": [
       "0    80\n",
       "1    90\n",
       "2    70\n",
       "3    90\n",
       "4    95\n",
       "dtype: int64"
      ]
     },
     "execution_count": 55,
     "metadata": {},
     "output_type": "execute_result"
    }
   ],
   "source": [
    "# Series\n",
    "# Series는 index,value의 두개값을 가진다  --> dataFrame 은 index,value,column세가지\n",
    "seri = pd.Series([80,90,70,90,95])\n",
    "seri"
   ]
  },
  {
   "cell_type": "code",
   "execution_count": 53,
   "id": "2dd4e9c4",
   "metadata": {},
   "outputs": [
    {
     "name": "stdout",
     "output_type": "stream",
     "text": [
      "[70, 80, 90, 90, 95]\n"
     ]
    },
    {
     "data": {
      "text/plain": [
       "list"
      ]
     },
     "execution_count": 53,
     "metadata": {},
     "output_type": "execute_result"
    }
   ],
   "source": [
    "# 시리즈정렬 - 리스트로 반환\n",
    "seri = sorted(seri)\n",
    "print(seri)\n",
    "type(seri)"
   ]
  },
  {
   "cell_type": "code",
   "execution_count": 71,
   "id": "e16cacb4",
   "metadata": {},
   "outputs": [
    {
     "name": "stdout",
     "output_type": "stream",
     "text": [
      "RangeIndex(start=0, stop=5, step=1)\n"
     ]
    },
    {
     "data": {
      "text/plain": [
       "array([80, 90, 70, 90, 95], dtype=int64)"
      ]
     },
     "execution_count": 71,
     "metadata": {},
     "output_type": "execute_result"
    }
   ],
   "source": [
    "from pandas import Series\n",
    "# index, values확인\n",
    "print(seri.index)\n",
    "seri.values"
   ]
  },
  {
   "cell_type": "code",
   "execution_count": 72,
   "id": "f3ce5716",
   "metadata": {},
   "outputs": [
    {
     "data": {
      "text/plain": [
       "국어    80\n",
       "영어    90\n",
       "수학    70\n",
       "과학    90\n",
       "사회    95\n",
       "Name: 과목별 성적, dtype: int64"
      ]
     },
     "execution_count": 72,
     "metadata": {},
     "output_type": "execute_result"
    }
   ],
   "source": [
    "#index부여(국어,영어,수학,과학,사회)\n",
    "s = pd.Series([80, 90, 70, 90, 95], index = ['국어','영어','수학','과학','사회'], name = '과목별 성적')\n",
    "s"
   ]
  },
  {
   "cell_type": "code",
   "execution_count": 70,
   "id": "e65e2268",
   "metadata": {},
   "outputs": [
    {
     "name": "stdout",
     "output_type": "stream",
     "text": [
      "[70, 80, 90, 90, 95]\n",
      "['과학', '국어', '사회', '수학', '영어']\n",
      "[70, 80, 90, 90, 95]\n"
     ]
    }
   ],
   "source": [
    "#성적순으로 정렬\n",
    "print(sorted(s))\n",
    "print(sorted(s.index))\n",
    "print(sorted(s.values))"
   ]
  },
  {
   "cell_type": "code",
   "execution_count": 73,
   "id": "c91d48f8-3a8d-40f3-b514-72cf4ae73ebc",
   "metadata": {},
   "outputs": [
    {
     "data": {
      "text/plain": [
       "국어    80\n",
       "영어    90\n",
       "수학    70\n",
       "과학    90\n",
       "사회    95\n",
       "dtype: int64"
      ]
     },
     "execution_count": 73,
     "metadata": {},
     "output_type": "execute_result"
    }
   ],
   "source": [
    "s1 = pd.Series({'국어':80,'영어':90,'수학':70,'과학':90,'사회':95})\n",
    "s1"
   ]
  },
  {
   "cell_type": "code",
   "execution_count": 75,
   "id": "96ae7dd5",
   "metadata": {},
   "outputs": [
    {
     "name": "stdout",
     "output_type": "stream",
     "text": [
      "85.0\n"
     ]
    }
   ],
   "source": [
    "#평균\n",
    "print(s1.mean(axis=0))"
   ]
  },
  {
   "cell_type": "code",
   "execution_count": 85,
   "id": "7c558515",
   "metadata": {},
   "outputs": [
    {
     "name": "stdout",
     "output_type": "stream",
     "text": [
      "   First  Second\n",
      "0      1       2\n",
      "1      3       4\n",
      "2      5       6\n",
      "3      7       8\n",
      "4      9      10\n",
      "<class 'pandas.core.frame.DataFrame'>\n",
      "<class 'pandas.core.series.Series'>\n"
     ]
    }
   ],
   "source": [
    "#중첩리스트 - > 데이터프레임\n",
    "my_lst = [[1,2],[3,4],[5,6],[7,8],[9,10]]\n",
    "data = pd.DataFrame(my_lst, columns=['First','Second'])\n",
    "print(data)\n",
    "print(type(data))\n",
    "print(type(data['First']))"
   ]
  },
  {
   "cell_type": "code",
   "execution_count": 84,
   "id": "85c62a0a",
   "metadata": {},
   "outputs": [
    {
     "name": "stdout",
     "output_type": "stream",
     "text": [
      "1     4\n",
      "2     6\n",
      "4    10\n",
      "Name: Second, dtype: int64\n"
     ]
    }
   ],
   "source": [
    "#컬럼(시리즈)마스킹\n",
    "bools = [False,True,True,False,True]\n",
    "print(data.Second[bools])"
   ]
  },
  {
   "cell_type": "code",
   "execution_count": 101,
   "id": "1fbc7070",
   "metadata": {},
   "outputs": [
    {
     "name": "stdout",
     "output_type": "stream",
     "text": [
      "0     3\n",
      "1     7\n",
      "2    11\n",
      "3    15\n",
      "4    19\n",
      "Name: Total, dtype: int64\n",
      "0     3\n",
      "1     7\n",
      "2    11\n",
      "3    15\n",
      "4    19\n",
      "Name: Total, dtype: int64\n"
     ]
    },
    {
     "data": {
      "text/html": [
       "<div>\n",
       "<style scoped>\n",
       "    .dataframe tbody tr th:only-of-type {\n",
       "        vertical-align: middle;\n",
       "    }\n",
       "\n",
       "    .dataframe tbody tr th {\n",
       "        vertical-align: top;\n",
       "    }\n",
       "\n",
       "    .dataframe thead th {\n",
       "        text-align: right;\n",
       "    }\n",
       "</style>\n",
       "<table border=\"1\" class=\"dataframe\">\n",
       "  <thead>\n",
       "    <tr style=\"text-align: right;\">\n",
       "      <th></th>\n",
       "      <th>First</th>\n",
       "      <th>Second</th>\n",
       "      <th>Total</th>\n",
       "    </tr>\n",
       "  </thead>\n",
       "  <tbody>\n",
       "    <tr>\n",
       "      <th>0</th>\n",
       "      <td>1</td>\n",
       "      <td>2</td>\n",
       "      <td>3</td>\n",
       "    </tr>\n",
       "    <tr>\n",
       "      <th>1</th>\n",
       "      <td>3</td>\n",
       "      <td>4</td>\n",
       "      <td>7</td>\n",
       "    </tr>\n",
       "    <tr>\n",
       "      <th>2</th>\n",
       "      <td>5</td>\n",
       "      <td>6</td>\n",
       "      <td>11</td>\n",
       "    </tr>\n",
       "    <tr>\n",
       "      <th>3</th>\n",
       "      <td>7</td>\n",
       "      <td>8</td>\n",
       "      <td>15</td>\n",
       "    </tr>\n",
       "    <tr>\n",
       "      <th>4</th>\n",
       "      <td>9</td>\n",
       "      <td>10</td>\n",
       "      <td>19</td>\n",
       "    </tr>\n",
       "  </tbody>\n",
       "</table>\n",
       "</div>"
      ],
      "text/plain": [
       "   First  Second  Total\n",
       "0      1       2      3\n",
       "1      3       4      7\n",
       "2      5       6     11\n",
       "3      7       8     15\n",
       "4      9      10     19"
      ]
     },
     "execution_count": 101,
     "metadata": {},
     "output_type": "execute_result"
    }
   ],
   "source": [
    "#컬럼을 추가하여 합계구하기\n",
    "# data2 = data['First']\n",
    "type(data['First'])\n",
    "type(data['Second'])\n",
    "data['Total'] = data['First']+data['Second']\n",
    "# type(data3)\n",
    "# data3\n",
    "print(data['Total'])\n",
    "print(data.Total)\n",
    "data"
   ]
  },
  {
   "cell_type": "code",
   "execution_count": 99,
   "id": "f8b3efe0",
   "metadata": {},
   "outputs": [
    {
     "data": {
      "text/plain": [
       "민준    23\n",
       "현우    43\n",
       "서연    12\n",
       "동현    45\n",
       "dtype: int64"
      ]
     },
     "execution_count": 99,
     "metadata": {},
     "output_type": "execute_result"
    }
   ],
   "source": [
    "# 딕셔너리 -> 시리즈\n",
    "age = {'민준':23,'현우':43,'서연':12,'동현':45}\n",
    "x = pd.Series(age)\n",
    "x"
   ]
  },
  {
   "cell_type": "code",
   "execution_count": 105,
   "id": "5b82d9ea",
   "metadata": {},
   "outputs": [
    {
     "name": "stdout",
     "output_type": "stream",
     "text": [
      "서연    12\n",
      "동현    45\n",
      "dtype: int64\n",
      "43\n"
     ]
    },
    {
     "data": {
      "text/plain": [
       "array([12, 45], dtype=int64)"
      ]
     },
     "execution_count": 105,
     "metadata": {},
     "output_type": "execute_result"
    }
   ],
   "source": [
    "# 시리즈의 슬라이싱/인덱싱\n",
    "a = x[2:]\n",
    "print(a)\n",
    "b = x[1]\n",
    "print(b)\n",
    "a.values"
   ]
  },
  {
   "cell_type": "code",
   "execution_count": 107,
   "id": "0015d8d3",
   "metadata": {},
   "outputs": [],
   "source": [
    "# 딕셔너리 -> 시리즈\n",
    "s = {'name':'홍길동','age':20, 'job':'의적', 'special':'분신술'}\n",
    "s1 = pd.Series(s)"
   ]
  },
  {
   "cell_type": "code",
   "execution_count": 109,
   "id": "69987aad",
   "metadata": {},
   "outputs": [
    {
     "name": "stdout",
     "output_type": "stream",
     "text": [
      "홍길동\n",
      "의적\n",
      "age         20\n",
      "job         의적\n",
      "special    분신술\n",
      "dtype: object\n",
      "special    분신술\n",
      "dtype: object\n"
     ]
    }
   ],
   "source": [
    "# 시리즈 데이터접근\n",
    "print(s1[0])\n",
    "print(s1['job'])\n",
    "print(s1[1:])\n",
    "print(s1[s1=='분신술'])"
   ]
  },
  {
   "cell_type": "code",
   "execution_count": 110,
   "id": "7c88592b",
   "metadata": {},
   "outputs": [
    {
     "data": {
      "text/plain": [
       "0    조조\n",
       "1    96\n",
       "2    72\n",
       "3    91\n",
       "4    94\n",
       "5    96\n",
       "dtype: object"
      ]
     },
     "execution_count": 110,
     "metadata": {},
     "output_type": "execute_result"
    }
   ],
   "source": [
    "import pandas as pd\n",
    "\n",
    "# 시리즈 생성\n",
    "pd.Series(['조조',96,72,91,94,96])\n"
   ]
  },
  {
   "cell_type": "code",
   "execution_count": 111,
   "id": "2a377e5e",
   "metadata": {},
   "outputs": [],
   "source": [
    "# index\n",
    "s = pd.Series(['조조',96,72,91,94,96], index = ['이름','통솔','무력','지력','정치','매력'])"
   ]
  },
  {
   "cell_type": "code",
   "execution_count": 115,
   "id": "40a06ef7",
   "metadata": {},
   "outputs": [
    {
     "name": "stdout",
     "output_type": "stream",
     "text": [
      "<class 'pandas.core.series.Series'>\n",
      "Index: 6 entries, 이름 to 매력\n",
      "Series name: None\n",
      "Non-Null Count  Dtype \n",
      "--------------  ----- \n",
      "6 non-null      object\n",
      "dtypes: object(1)\n",
      "memory usage: 96.0+ bytes\n"
     ]
    }
   ],
   "source": [
    "# index 확인\n",
    "s.index\n",
    "type(s.index)\n",
    "s.values\n",
    "type(s.values)\n",
    "s.info()"
   ]
  },
  {
   "cell_type": "code",
   "execution_count": 27,
   "id": "f033fae6",
   "metadata": {},
   "outputs": [],
   "source": [
    "# values확인\n"
   ]
  },
  {
   "cell_type": "code",
   "execution_count": 28,
   "id": "1f5e8ff7",
   "metadata": {},
   "outputs": [],
   "source": [
    "# 시리즈 생성\n"
   ]
  },
  {
   "cell_type": "code",
   "execution_count": 120,
   "id": "4deb23ad",
   "metadata": {},
   "outputs": [
    {
     "data": {
      "text/plain": [
       "이름    조조\n",
       "통솔    96\n",
       "매력    96\n",
       "정치    94\n",
       "지력    91\n",
       "무력    72\n",
       "dtype: object"
      ]
     },
     "execution_count": 120,
     "metadata": {},
     "output_type": "execute_result"
    }
   ],
   "source": [
    "# reindex\n",
    "s = pd.Series(['조조',96,72,91,94,96], \n",
    "              index = ['이름','통솔','무력','지력','정치','매력'])\n",
    "s.reindex(['이름','통솔','매력','정치','지력','무력'])"
   ]
  },
  {
   "cell_type": "code",
   "execution_count": 122,
   "id": "8e576141",
   "metadata": {},
   "outputs": [
    {
     "data": {
      "text/plain": [
       "'조조'"
      ]
     },
     "execution_count": 122,
     "metadata": {},
     "output_type": "execute_result"
    }
   ],
   "source": [
    "# 인덱싱\n",
    "s[0]\n",
    "s['이름']\n",
    "s.이름"
   ]
  },
  {
   "cell_type": "code",
   "execution_count": 123,
   "id": "016c04a9",
   "metadata": {},
   "outputs": [
    {
     "data": {
      "text/plain": [
       "이름    조조\n",
       "무력    72\n",
       "dtype: object"
      ]
     },
     "execution_count": 123,
     "metadata": {},
     "output_type": "execute_result"
    }
   ],
   "source": [
    "# 인덱싱2\n",
    "s[['이름','무력']]"
   ]
  },
  {
   "cell_type": "code",
   "execution_count": 32,
   "id": "30ceabcb",
   "metadata": {},
   "outputs": [],
   "source": [
    "# 인덱싱3(loc)\n"
   ]
  },
  {
   "cell_type": "code",
   "execution_count": 33,
   "id": "bb87ee0e",
   "metadata": {},
   "outputs": [],
   "source": [
    "# 인덱싱4(2개)\n"
   ]
  },
  {
   "cell_type": "code",
   "execution_count": 126,
   "id": "44dc9854",
   "metadata": {},
   "outputs": [
    {
     "data": {
      "text/plain": [
       "Series([], dtype: object)"
      ]
     },
     "execution_count": 126,
     "metadata": {},
     "output_type": "execute_result"
    }
   ],
   "source": [
    "# 결측치 확인\n",
    "s[s.isnull()]"
   ]
  },
  {
   "cell_type": "code",
   "execution_count": 127,
   "id": "3736c0ab",
   "metadata": {},
   "outputs": [
    {
     "data": {
      "text/plain": [
       "이름    True\n",
       "통솔    True\n",
       "무력    True\n",
       "지력    True\n",
       "정치    True\n",
       "매력    True\n",
       "dtype: bool"
      ]
     },
     "execution_count": 127,
     "metadata": {},
     "output_type": "execute_result"
    }
   ],
   "source": [
    "# 값확인 \n",
    "s[s.notnull()]\n",
    "s.notnull()"
   ]
  },
  {
   "cell_type": "code",
   "execution_count": 135,
   "id": "5af25315",
   "metadata": {},
   "outputs": [
    {
     "ename": "IndexingError",
     "evalue": "Unalignable boolean Series provided as indexer (index of the boolean Series and of the indexed object do not match).",
     "output_type": "error",
     "traceback": [
      "\u001b[1;31m--------------------------------------------------------------\u001b[0m",
      "\u001b[1;31mIndexingError\u001b[0m                Traceback (most recent call last)",
      "Cell \u001b[1;32mIn[135], line 4\u001b[0m\n\u001b[0;32m      2\u001b[0m s\u001b[38;5;241m.\u001b[39m무력 \u001b[38;5;241m=\u001b[39m \u001b[38;5;241m70\u001b[39m\n\u001b[0;32m      3\u001b[0m s[s\u001b[38;5;241m==\u001b[39m\u001b[38;5;124m'\u001b[39m\u001b[38;5;124m조조\u001b[39m\u001b[38;5;124m'\u001b[39m]\n\u001b[1;32m----> 4\u001b[0m \u001b[43ms\u001b[49m\u001b[43m[\u001b[49m\u001b[43ms\u001b[49m\u001b[43m[\u001b[49m\u001b[38;5;241;43m1\u001b[39;49m\u001b[43m:\u001b[49m\u001b[43m]\u001b[49m\u001b[38;5;241;43m>\u001b[39;49m\u001b[38;5;241;43m70\u001b[39;49m\u001b[43m]\u001b[49m\n",
      "File \u001b[1;32m~\\AppData\\Local\\Programs\\Python\\Python310\\lib\\site-packages\\pandas\\core\\series.py:1029\u001b[0m, in \u001b[0;36mSeries.__getitem__\u001b[1;34m(self, key)\u001b[0m\n\u001b[0;32m   1026\u001b[0m     key \u001b[38;5;241m=\u001b[39m \u001b[38;5;28mlist\u001b[39m(key)\n\u001b[0;32m   1028\u001b[0m \u001b[38;5;28;01mif\u001b[39;00m com\u001b[38;5;241m.\u001b[39mis_bool_indexer(key):\n\u001b[1;32m-> 1029\u001b[0m     key \u001b[38;5;241m=\u001b[39m \u001b[43mcheck_bool_indexer\u001b[49m\u001b[43m(\u001b[49m\u001b[38;5;28;43mself\u001b[39;49m\u001b[38;5;241;43m.\u001b[39;49m\u001b[43mindex\u001b[49m\u001b[43m,\u001b[49m\u001b[43m \u001b[49m\u001b[43mkey\u001b[49m\u001b[43m)\u001b[49m\n\u001b[0;32m   1030\u001b[0m     key \u001b[38;5;241m=\u001b[39m np\u001b[38;5;241m.\u001b[39masarray(key, dtype\u001b[38;5;241m=\u001b[39m\u001b[38;5;28mbool\u001b[39m)\n\u001b[0;32m   1031\u001b[0m     \u001b[38;5;28;01mreturn\u001b[39;00m \u001b[38;5;28mself\u001b[39m\u001b[38;5;241m.\u001b[39m_get_values(key)\n",
      "File \u001b[1;32m~\\AppData\\Local\\Programs\\Python\\Python310\\lib\\site-packages\\pandas\\core\\indexing.py:2506\u001b[0m, in \u001b[0;36mcheck_bool_indexer\u001b[1;34m(index, key)\u001b[0m\n\u001b[0;32m   2504\u001b[0m indexer \u001b[38;5;241m=\u001b[39m result\u001b[38;5;241m.\u001b[39mindex\u001b[38;5;241m.\u001b[39mget_indexer_for(index)\n\u001b[0;32m   2505\u001b[0m \u001b[38;5;28;01mif\u001b[39;00m \u001b[38;5;241m-\u001b[39m\u001b[38;5;241m1\u001b[39m \u001b[38;5;129;01min\u001b[39;00m indexer:\n\u001b[1;32m-> 2506\u001b[0m     \u001b[38;5;28;01mraise\u001b[39;00m IndexingError(\n\u001b[0;32m   2507\u001b[0m         \u001b[38;5;124m\"\u001b[39m\u001b[38;5;124mUnalignable boolean Series provided as \u001b[39m\u001b[38;5;124m\"\u001b[39m\n\u001b[0;32m   2508\u001b[0m         \u001b[38;5;124m\"\u001b[39m\u001b[38;5;124mindexer (index of the boolean Series and of \u001b[39m\u001b[38;5;124m\"\u001b[39m\n\u001b[0;32m   2509\u001b[0m         \u001b[38;5;124m\"\u001b[39m\u001b[38;5;124mthe indexed object do not match).\u001b[39m\u001b[38;5;124m\"\u001b[39m\n\u001b[0;32m   2510\u001b[0m     )\n\u001b[0;32m   2512\u001b[0m result \u001b[38;5;241m=\u001b[39m result\u001b[38;5;241m.\u001b[39mtake(indexer)\n\u001b[0;32m   2514\u001b[0m \u001b[38;5;66;03m# fall through for boolean\u001b[39;00m\n",
      "\u001b[1;31mIndexingError\u001b[0m: Unalignable boolean Series provided as indexer (index of the boolean Series and of the indexed object do not match)."
     ]
    }
   ],
   "source": [
    "# 값변경\n",
    "s.무력 = 70\n",
    "s[s=='조조']\n",
    "s[s[1:]>70]"
   ]
  },
  {
   "cell_type": "code",
   "execution_count": 37,
   "id": "d865df3e",
   "metadata": {},
   "outputs": [],
   "source": [
    "# 2개 변경\n"
   ]
  },
  {
   "cell_type": "code",
   "execution_count": 38,
   "id": "843193ab",
   "metadata": {},
   "outputs": [],
   "source": [
    "# 삭제\n"
   ]
  },
  {
   "cell_type": "code",
   "execution_count": 39,
   "id": "00456d37",
   "metadata": {},
   "outputs": [],
   "source": [
    "# drop"
   ]
  },
  {
   "cell_type": "code",
   "execution_count": 40,
   "id": "1f97dc63",
   "metadata": {},
   "outputs": [],
   "source": [
    "# c 데이터확인\n"
   ]
  },
  {
   "cell_type": "code",
   "execution_count": 58,
   "id": "06880548",
   "metadata": {},
   "outputs": [],
   "source": [
    "# 수정된 값 적용\n"
   ]
  },
  {
   "cell_type": "code",
   "execution_count": 41,
   "id": "656e775b",
   "metadata": {},
   "outputs": [],
   "source": [
    "# filtering\n"
   ]
  },
  {
   "cell_type": "code",
   "execution_count": 42,
   "id": "cea5ec64",
   "metadata": {},
   "outputs": [],
   "source": [
    "# name값 확인\n"
   ]
  },
  {
   "cell_type": "code",
   "execution_count": 43,
   "id": "3c71be0b",
   "metadata": {},
   "outputs": [],
   "source": [
    "# index 확인\n"
   ]
  },
  {
   "cell_type": "code",
   "execution_count": 44,
   "id": "05670fc8",
   "metadata": {},
   "outputs": [],
   "source": [
    "# values 확인\n"
   ]
  },
  {
   "cell_type": "code",
   "execution_count": 45,
   "id": "ff8f0275",
   "metadata": {},
   "outputs": [],
   "source": [
    "#DataFrame Series + column\n"
   ]
  },
  {
   "cell_type": "code",
   "execution_count": 46,
   "id": "516faec4",
   "metadata": {},
   "outputs": [],
   "source": [
    "#컬럼추출\n"
   ]
  },
  {
   "cell_type": "code",
   "execution_count": 47,
   "id": "5b57fccc",
   "metadata": {},
   "outputs": [],
   "source": [
    "#시리즈 합계,평균\n"
   ]
  },
  {
   "cell_type": "code",
   "execution_count": 48,
   "id": "5b412ca0",
   "metadata": {},
   "outputs": [],
   "source": [
    "# index, column전치\n"
   ]
  },
  {
   "cell_type": "code",
   "execution_count": 49,
   "id": "ae27a2bb",
   "metadata": {},
   "outputs": [],
   "source": [
    "#컬럼 연산\n"
   ]
  },
  {
   "cell_type": "code",
   "execution_count": 50,
   "id": "4d6cbe3e",
   "metadata": {},
   "outputs": [],
   "source": [
    "# 컬럼연산2\n"
   ]
  },
  {
   "cell_type": "code",
   "execution_count": 53,
   "id": "d166ccc7",
   "metadata": {},
   "outputs": [],
   "source": [
    "#loc, iloc\n",
    "\n"
   ]
  },
  {
   "cell_type": "code",
   "execution_count": 54,
   "id": "b57a690a",
   "metadata": {},
   "outputs": [
    {
     "name": "stdout",
     "output_type": "stream",
     "text": [
      "Requirement already satisfied: matplotlib in c:\\users\\user\\lib\\site-packages (3.6.0)\n",
      "Requirement already satisfied: contourpy>=1.0.1 in c:\\users\\user\\lib\\site-packages (from matplotlib) (1.0.5)\n",
      "Requirement already satisfied: cycler>=0.10 in c:\\users\\user\\lib\\site-packages (from matplotlib) (0.11.0)\n",
      "Requirement already satisfied: fonttools>=4.22.0 in c:\\users\\user\\lib\\site-packages (from matplotlib) (4.37.4)\n",
      "Requirement already satisfied: kiwisolver>=1.0.1 in c:\\users\\user\\lib\\site-packages (from matplotlib) (1.4.4)\n",
      "Requirement already satisfied: numpy>=1.19 in c:\\users\\user\\lib\\site-packages (from matplotlib) (1.23.3)\n",
      "Requirement already satisfied: packaging>=20.0 in c:\\users\\user\\lib\\site-packages (from matplotlib) (23.1)\n",
      "Requirement already satisfied: pillow>=6.2.0 in c:\\users\\user\\lib\\site-packages (from matplotlib) (9.2.0)\n",
      "Requirement already satisfied: pyparsing>=2.2.1 in c:\\users\\user\\lib\\site-packages (from matplotlib) (3.0.9)\n",
      "Requirement already satisfied: python-dateutil>=2.7 in c:\\users\\user\\lib\\site-packages (from matplotlib) (2.8.2)\n",
      "Requirement already satisfied: six>=1.5 in c:\\users\\user\\lib\\site-packages (from python-dateutil>=2.7->matplotlib) (1.16.0)\n"
     ]
    },
    {
     "data": {
      "text/html": [
       "<div>\n",
       "<style scoped>\n",
       "    .dataframe tbody tr th:only-of-type {\n",
       "        vertical-align: middle;\n",
       "    }\n",
       "\n",
       "    .dataframe tbody tr th {\n",
       "        vertical-align: top;\n",
       "    }\n",
       "\n",
       "    .dataframe thead th {\n",
       "        text-align: right;\n",
       "    }\n",
       "</style>\n",
       "<table border=\"1\" class=\"dataframe\">\n",
       "  <thead>\n",
       "    <tr style=\"text-align: right;\">\n",
       "      <th></th>\n",
       "      <th>A</th>\n",
       "      <th>B</th>\n",
       "      <th>C</th>\n",
       "      <th>D</th>\n",
       "    </tr>\n",
       "  </thead>\n",
       "  <tbody>\n",
       "    <tr>\n",
       "      <th>2000-01-01</th>\n",
       "      <td>-2.362859</td>\n",
       "      <td>1.024769</td>\n",
       "      <td>0.463293</td>\n",
       "      <td>0.482190</td>\n",
       "    </tr>\n",
       "    <tr>\n",
       "      <th>2000-01-02</th>\n",
       "      <td>-0.802728</td>\n",
       "      <td>0.168222</td>\n",
       "      <td>0.337905</td>\n",
       "      <td>-1.206414</td>\n",
       "    </tr>\n",
       "    <tr>\n",
       "      <th>2000-01-03</th>\n",
       "      <td>-1.095969</td>\n",
       "      <td>-0.676657</td>\n",
       "      <td>0.181745</td>\n",
       "      <td>-0.799606</td>\n",
       "    </tr>\n",
       "    <tr>\n",
       "      <th>2000-01-04</th>\n",
       "      <td>0.256234</td>\n",
       "      <td>-1.368405</td>\n",
       "      <td>1.473383</td>\n",
       "      <td>1.010056</td>\n",
       "    </tr>\n",
       "    <tr>\n",
       "      <th>2000-01-05</th>\n",
       "      <td>-0.913012</td>\n",
       "      <td>3.183690</td>\n",
       "      <td>0.353224</td>\n",
       "      <td>0.879062</td>\n",
       "    </tr>\n",
       "    <tr>\n",
       "      <th>2000-01-06</th>\n",
       "      <td>1.086186</td>\n",
       "      <td>0.800041</td>\n",
       "      <td>-1.027101</td>\n",
       "      <td>0.747026</td>\n",
       "    </tr>\n",
       "  </tbody>\n",
       "</table>\n",
       "</div>"
      ],
      "text/plain": [
       "                   A         B         C         D\n",
       "2000-01-01 -2.362859  1.024769  0.463293  0.482190\n",
       "2000-01-02 -0.802728  0.168222  0.337905 -1.206414\n",
       "2000-01-03 -1.095969 -0.676657  0.181745 -0.799606\n",
       "2000-01-04  0.256234 -1.368405  1.473383  1.010056\n",
       "2000-01-05 -0.913012  3.183690  0.353224  0.879062\n",
       "2000-01-06  1.086186  0.800041 -1.027101  0.747026"
      ]
     },
     "execution_count": 54,
     "metadata": {},
     "output_type": "execute_result"
    }
   ],
   "source": [
    "!pip install matplotlib\n",
    "\n",
    "import pandas as pd\n",
    "import numpy as np\n",
    "import matplotlib.pyplot as plt\n",
    "import matplotlib as mpl \n",
    "#한글폰트 사용시 마이너스 폰트 깨지는 문제에 대한 대처\n",
    "mpl.rcParams['axes.unicode_minus'] = False\n",
    "ts = pd.Series(np.random.randn(1000),\n",
    "               index=pd.date_range('1/1/2000',periods=1000))\n",
    "tsdf = pd.DataFrame(np.random.randn(1000,4),\n",
    "                   index=ts.index,columns=list('ABCD'))\n",
    "tsdf.head(6)\n",
    "#tsdf.tail()\n",
    "#%matplotlib inline"
   ]
  },
  {
   "cell_type": "code",
   "execution_count": 55,
   "id": "37f0ab56",
   "metadata": {},
   "outputs": [],
   "source": [
    "#plot예문1\n",
    "\n"
   ]
  },
  {
   "cell_type": "code",
   "execution_count": 56,
   "id": "1df7c90d",
   "metadata": {},
   "outputs": [],
   "source": [
    "#plot예문2\n"
   ]
  },
  {
   "cell_type": "code",
   "execution_count": 57,
   "id": "97d335c7",
   "metadata": {},
   "outputs": [],
   "source": [
    "#plot예문3\n"
   ]
  }
 ],
 "metadata": {
  "kernelspec": {
   "display_name": "Python 3 (ipykernel)",
   "language": "python",
   "name": "python3"
  },
  "language_info": {
   "codemirror_mode": {
    "name": "ipython",
    "version": 3
   },
   "file_extension": ".py",
   "mimetype": "text/x-python",
   "name": "python",
   "nbconvert_exporter": "python",
   "pygments_lexer": "ipython3",
   "version": "3.10.9"
  }
 },
 "nbformat": 4,
 "nbformat_minor": 5
}
